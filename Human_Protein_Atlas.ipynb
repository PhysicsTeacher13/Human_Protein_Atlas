{
  "nbformat": 4,
  "nbformat_minor": 0,
  "metadata": {
    "colab": {
      "name": "Human Protein Atlas.ipynb",
      "version": "0.3.2",
      "provenance": [],
      "collapsed_sections": [
        "BH20l3uZKCrX",
        "V6kJrMQBKCrq",
        "euEuPHdLKCsA",
        "bhZZpnpDKCt2",
        "GinU382eKCvU",
        "Mp2GMGv_KCwT",
        "EeC28--MKCze",
        "TeELZDKkKC0S",
        "TuXysK3MKC0_"
      ],
      "include_colab_link": true
    },
    "kernelspec": {
      "name": "python3",
      "display_name": "Python 3"
    },
    "accelerator": "GPU"
  },
  "cells": [
    {
      "cell_type": "markdown",
      "metadata": {
        "id": "view-in-github",
        "colab_type": "text"
      },
      "source": [
        "<a href=\"https://colab.research.google.com/github/PhysicsTeacher13/Human_Protein_Atlas/blob/master/Human_Protein_Atlas.ipynb\" target=\"_parent\"><img src=\"https://colab.research.google.com/assets/colab-badge.svg\" alt=\"Open In Colab\"/></a>"
      ]
    },
    {
      "metadata": {
        "id": "3xwyOMQAKvv9",
        "colab_type": "code",
        "colab": {}
      },
      "cell_type": "code",
      "source": [
        "!pip install -U -q kaggle\n",
        "!mkdir -p ~/.kaggle\n"
      ],
      "execution_count": 0,
      "outputs": []
    },
    {
      "metadata": {
        "id": "mk9G-8svPDol",
        "colab_type": "code",
        "outputId": "792d9d0e-63f7-4e30-f6a3-4b9118f5a702",
        "colab": {
          "resources": {
            "http://localhost:8080/nbextensions/google.colab/files.js": {
              "data": "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",
              "ok": true,
              "headers": [
                [
                  "content-type",
                  "application/javascript"
                ]
              ],
              "status": 200,
              "status_text": ""
            }
          },
          "base_uri": "https://localhost:8080/",
          "height": 89
        }
      },
      "cell_type": "code",
      "source": [
        "from google.colab import files\n",
        "files.upload()"
      ],
      "execution_count": 2,
      "outputs": [
        {
          "output_type": "display_data",
          "data": {
            "text/html": [
              "\n",
              "     <input type=\"file\" id=\"files-03e9c247-24f3-4a71-b589-63084068aaef\" name=\"files[]\" multiple disabled />\n",
              "     <output id=\"result-03e9c247-24f3-4a71-b589-63084068aaef\">\n",
              "      Upload widget is only available when the cell has been executed in the\n",
              "      current browser session. Please rerun this cell to enable.\n",
              "      </output>\n",
              "      <script src=\"/nbextensions/google.colab/files.js\"></script> "
            ],
            "text/plain": [
              "<IPython.core.display.HTML object>"
            ]
          },
          "metadata": {
            "tags": []
          }
        },
        {
          "output_type": "stream",
          "text": [
            "Saving kaggle.json to kaggle.json\n"
          ],
          "name": "stdout"
        },
        {
          "output_type": "execute_result",
          "data": {
            "text/plain": [
              "{'kaggle.json': b'{\"username\":\"physicsteacher13\",\"key\":\"11a70abf8013105a3280be365d12b9c4\"}'}"
            ]
          },
          "metadata": {
            "tags": []
          },
          "execution_count": 2
        }
      ]
    },
    {
      "metadata": {
        "id": "6mjmY5m0PJ3y",
        "colab_type": "code",
        "colab": {}
      },
      "cell_type": "code",
      "source": [
        "!cp kaggle.json ~/.kaggle/"
      ],
      "execution_count": 0,
      "outputs": []
    },
    {
      "metadata": {
        "id": "xnurwUttPQtT",
        "colab_type": "code",
        "outputId": "386f0e30-ab24-4e89-bff6-a00a323e896b",
        "colab": {
          "base_uri": "https://localhost:8080/",
          "height": 255
        }
      },
      "cell_type": "code",
      "source": [
        "!kaggle competitions download -c human-protein-atlas-image-classification\n",
        "!ls"
      ],
      "execution_count": 4,
      "outputs": [
        {
          "output_type": "stream",
          "text": [
            "Warning: Your Kaggle API key is readable by other users on this system! To fix this, you can run 'chmod 600 /root/.kaggle/kaggle.json'\n",
            "Downloading sample_submission.csv to /content\n",
            "  0% 0.00/446k [00:00<?, ?B/s]\n",
            "100% 446k/446k [00:00<00:00, 61.1MB/s]\n",
            "Downloading train.csv to /content\n",
            "  0% 0.00/1.22M [00:00<?, ?B/s]\n",
            "100% 1.22M/1.22M [00:00<00:00, 82.6MB/s]\n",
            "Downloading test.zip to /content\n",
            "100% 4.36G/4.37G [00:32<00:00, 127MB/s]\n",
            "100% 4.37G/4.37G [00:32<00:00, 144MB/s]\n",
            "Downloading train.zip to /content\n",
            "100% 13.1G/13.1G [01:39<00:00, 152MB/s]\n",
            "100% 13.1G/13.1G [01:39<00:00, 141MB/s]\n",
            "kaggle.json  sample_data  sample_submission.csv  test.zip  train.csv  train.zip\n"
          ],
          "name": "stdout"
        }
      ]
    },
    {
      "metadata": {
        "id": "wHki_v1APQ4u",
        "colab_type": "code",
        "colab": {}
      },
      "cell_type": "code",
      "source": [
        "# !unzip train.zip "
      ],
      "execution_count": 0,
      "outputs": []
    },
    {
      "metadata": {
        "id": "VMg51a7fK1F9",
        "colab_type": "code",
        "outputId": "5d2aab58-8825-4fc3-fa07-0b511d1b58ad",
        "colab": {
          "base_uri": "https://localhost:8080/",
          "height": 34
        }
      },
      "cell_type": "code",
      "source": [
        "import numpy as np\n",
        "import matplotlib.image as mpimg # for reading images\n",
        "import matplotlib.pyplot as plt\n",
        "import cv2 # computer vision lib\n",
        "\n",
        "%matplotlib"
      ],
      "execution_count": 6,
      "outputs": [
        {
          "output_type": "stream",
          "text": [
            "Using matplotlib backend: TkAgg\n"
          ],
          "name": "stdout"
        }
      ]
    },
    {
      "metadata": {
        "id": "fVqzdptdTQcJ",
        "colab_type": "code",
        "colab": {}
      },
      "cell_type": "code",
      "source": [
        ""
      ],
      "execution_count": 0,
      "outputs": []
    },
    {
      "metadata": {
        "id": "qt2HBIFtTQ1T",
        "colab_type": "code",
        "colab": {}
      },
      "cell_type": "code",
      "source": [
        ""
      ],
      "execution_count": 0,
      "outputs": []
    },
    {
      "metadata": {
        "_uuid": "2d6da9673d8622bb6edbadb79b98b77263fc1d70",
        "id": "l-e0pJRwKCoz",
        "colab_type": "text"
      },
      "cell_type": "markdown",
      "source": [
        "Human Protein Atlas\n",
        "\n",
        "This kernel notebook to explore the data and build a simple baseline model to play with.  Start with the competition but need some starter code or some inspiration. \n",
        "\n",
        "\n",
        "1. Encoding of binary target labels out of the given multilabel list per image,\n",
        "2. Visual analysis of target protein distribution in the train set,\n",
        "3. A simple image generator that yields images of a target-protein-wishlist. Each sample that has at least one match with this list is returned.\n",
        "4. Some ideas on validation.\n",
        "5. A baseline model build with keras that is supported by:\n",
        "    * A modelparameter class that holds all parameters that are necessary to build the model, to load the data and to preprocess the images.\n",
        "    * A data generator that can be used with CPU/GPU computing to perform training and validation.\n",
        "    * An image preprocessor that rescales, reshapes and normalizes the images for feeding into the model.\n",
        "6. Ideas on how to improve the baseline model by tracking loss with a keras callback. \n",
        "7. Some ideas on how to proceed. (coming soon)"
      ]
    },
    {
      "metadata": {
        "_uuid": "cbec118af20f078fd71b23c8ee0b7aa0cb89daa5",
        "id": "zEwGlIxLKCo7",
        "colab_type": "text"
      },
      "cell_type": "markdown",
      "source": [
        "## Latest important updates\n",
        "\n",
        "Beside building competition code I'm still updating this kernel with ideas and code. To make it easier for you to checkout new content, here is an **update summary** of the latest changes:\n",
        "\n",
        "* Ideas how to solve jiggle-wiggle losses and gradients: dropout\n",
        "* DataGenerator: The **multithreaded version to perform predictions with DataGenerator was dropped**. I've tried out various different methods the last days (using ImageGenerator, flow_form_dataframe etc.) but every time there were some annoying problems. As training is the most expensive part, I decided to keep multithreading for fitting but to drop if for making predictions. \n",
        "* **Bug-fix** in modelparameter class. **Shuffle was always set to True**. Now default is False and you can change it interactively. \n",
        "* **Modelparameter class** has now an **attribute basepath** that points to your desired image directory. If you perform a prediction with same modelparameters, the path is overwritten during prediction with predict_path. Feels dirty, this will be changed soon. \n",
        "* The **image preprocessor is now responsible for loading the images**. With default model parameter n_channels=1 it only returns the green image. If you like to change that increase n_channels as you like or do it by hand but make sure than modelparameters has a suitable n_channels. \n",
        "* The **f1 score** of the improved metric is extended by **min, max, std** besides the mean to gain more insights of the f1 score distribution between different target classes. \n",
        "* Some ideas what causes the gradient noise and how to set up solutions. "
      ]
    },
    {
      "metadata": {
        "_uuid": "16c5e9f6b0cc1e2be83d54adff6ec5ed16dbe0d3",
        "id": "B6Q9wCCnKCpB",
        "colab_type": "text"
      },
      "cell_type": "markdown",
      "source": [
        "### Our goal\n",
        "\n",
        "* Predict various protein structures in cellular images\n",
        "* there are 28 different target proteins\n",
        "* multiple proteins can be present in one image (multilabel classification)\n",
        "* 27 different cell types of highly different morphology"
      ]
    },
    {
      "metadata": {
        "_uuid": "bbba5a9f15329ac61510f60a84337c1fe2a6e98e",
        "id": "5hYIS0l7KCpE",
        "colab_type": "text"
      },
      "cell_type": "markdown",
      "source": [
        "## Kernel settings\n",
        "\n",
        "This notebook contains model fitting that may take some time. **If you don't like to wait for compution, you can set fit_baseline and/or fit_improved_baseline of the KernelSettings class to False**:"
      ]
    },
    {
      "metadata": {
        "_kg_hide-input": true,
        "trusted": true,
        "_uuid": "550027fb14c0774f8a58b5220548429126549131",
        "id": "79XL7CfdKCpJ",
        "colab_type": "code",
        "colab": {}
      },
      "cell_type": "code",
      "source": [
        "class KernelSettings:\n",
        "    \n",
        "    def __init__(self, fit_baseline=False, fit_improved_baseline=False):\n",
        "        self.fit_baseline = fit_baseline\n",
        "        self.fit_improved_baseline = fit_improved_baseline"
      ],
      "execution_count": 0,
      "outputs": []
    },
    {
      "metadata": {
        "trusted": true,
        "_uuid": "efd75058e48c0b7e962f4592ad14ec7d705196cb",
        "id": "Ma8no5VtKCpa",
        "colab_type": "code",
        "colab": {}
      },
      "cell_type": "code",
      "source": [
        "kernelsettings = KernelSettings(fit_baseline=False, fit_improved_baseline=False)"
      ],
      "execution_count": 0,
      "outputs": []
    },
    {
      "metadata": {
        "_uuid": "b2735faa22f122ed33728f0782bf911e402774ca",
        "id": "gtIbIrPNKCpo",
        "colab_type": "text"
      },
      "cell_type": "markdown",
      "source": [
        "This way the prediction probabilities of the corresponding model are loaded as csv from added data source. "
      ]
    },
    {
      "metadata": {
        "_uuid": "51824d453581725c0c20a38ae056b9d80a893bdf",
        "id": "V3FzzPgxKCpq",
        "colab_type": "text"
      },
      "cell_type": "markdown",
      "source": [
        "## Improved model settings\n",
        "\n",
        "Within this kernel you can play with different improvement steps of the baseline model in a plug and play style. To make it easier to understand which improvements you currently use, let's set them here in front of the analysis:"
      ]
    },
    {
      "metadata": {
        "trusted": true,
        "_uuid": "32888a471d6e55cbcc2e1f88d1a6c974ae0e991f",
        "id": "ywLpfJULKCpv",
        "colab_type": "code",
        "colab": {}
      },
      "cell_type": "code",
      "source": [
        "use_dropout=False"
      ],
      "execution_count": 0,
      "outputs": []
    },
    {
      "metadata": {
        "_uuid": "cce6944f02a874a8773859db189ab119393822ac",
        "id": "ZV16NKT7KCp4",
        "colab_type": "text"
      },
      "cell_type": "markdown",
      "source": [
        "## Loading packages and data"
      ]
    },
    {
      "metadata": {
        "_uuid": "8f2839f25d086af736a60e9eeb907d3b93b6e0e5",
        "_cell_guid": "b1076dfc-b9ad-4769-8c92-a6c4dae69d19",
        "trusted": true,
        "_kg_hide-input": true,
        "id": "W6ohjCKLKCp7",
        "colab_type": "code",
        "colab": {
          "base_uri": "https://localhost:8080/",
          "height": 231
        },
        "outputId": "4a18756d-d939-42f5-e231-557c1f99bb88"
      },
      "cell_type": "code",
      "source": [
        "import numpy as np # linear algebra\n",
        "import pandas as pd # data processing, CSV file I/O (e.g. pd.read_csv)\n",
        "\n",
        "import seaborn as sns\n",
        "import matplotlib.pyplot as plt\n",
        "%matplotlib inline\n",
        "from PIL import Image\n",
        "from scipy.misc import imread\n",
        "\n",
        "import tensorflow as tf\n",
        "sns.set()\n",
        "\n",
        "import os\n",
        "print(os.listdir(\"../input\"))\n",
        "\n",
        "import warnings\n",
        "warnings.filterwarnings(\"ignore\", category=DeprecationWarning)\n",
        "warnings.filterwarnings(\"ignore\", category=UserWarning)\n",
        "warnings.filterwarnings(\"ignore\", category=FutureWarning)\n",
        "\n",
        "# Any results you write to the current directory are saved as output."
      ],
      "execution_count": 10,
      "outputs": [
        {
          "output_type": "error",
          "ename": "FileNotFoundError",
          "evalue": "ignored",
          "traceback": [
            "\u001b[0;31m---------------------------------------------------------------------------\u001b[0m",
            "\u001b[0;31mFileNotFoundError\u001b[0m                         Traceback (most recent call last)",
            "\u001b[0;32m<ipython-input-10-749c6b8db9e2>\u001b[0m in \u001b[0;36m<module>\u001b[0;34m()\u001b[0m\n\u001b[1;32m     12\u001b[0m \u001b[0;34m\u001b[0m\u001b[0m\n\u001b[1;32m     13\u001b[0m \u001b[0;32mimport\u001b[0m \u001b[0mos\u001b[0m\u001b[0;34m\u001b[0m\u001b[0;34m\u001b[0m\u001b[0m\n\u001b[0;32m---> 14\u001b[0;31m \u001b[0mprint\u001b[0m\u001b[0;34m(\u001b[0m\u001b[0mos\u001b[0m\u001b[0;34m.\u001b[0m\u001b[0mlistdir\u001b[0m\u001b[0;34m(\u001b[0m\u001b[0;34m\"../input\"\u001b[0m\u001b[0;34m)\u001b[0m\u001b[0;34m)\u001b[0m\u001b[0;34m\u001b[0m\u001b[0;34m\u001b[0m\u001b[0m\n\u001b[0m\u001b[1;32m     15\u001b[0m \u001b[0;34m\u001b[0m\u001b[0m\n\u001b[1;32m     16\u001b[0m \u001b[0;32mimport\u001b[0m \u001b[0mwarnings\u001b[0m\u001b[0;34m\u001b[0m\u001b[0;34m\u001b[0m\u001b[0m\n",
            "\u001b[0;31mFileNotFoundError\u001b[0m: [Errno 2] No such file or directory: '../input'"
          ]
        }
      ]
    },
    {
      "metadata": {
        "id": "08AiojAmX3io",
        "colab_type": "code",
        "colab": {
          "base_uri": "https://localhost:8080/",
          "height": 51
        },
        "outputId": "13cdd7cf-af8c-4883-875f-9e4be19bdb8d"
      },
      "cell_type": "code",
      "source": [
        "ls"
      ],
      "execution_count": 11,
      "outputs": [
        {
          "output_type": "stream",
          "text": [
            "kaggle.json   sample_submission.csv  train.csv\n",
            "\u001b[0m\u001b[01;34msample_data\u001b[0m/  test.zip               train.zip\n"
          ],
          "name": "stdout"
        }
      ]
    },
    {
      "metadata": {
        "id": "rXshSyC2X_wX",
        "colab_type": "code",
        "colab": {
          "base_uri": "https://localhost:8080/",
          "height": 34
        },
        "outputId": "40039a8e-da6d-40f6-e7aa-96a638916841"
      },
      "cell_type": "code",
      "source": [
        "cd sample_data/\n"
      ],
      "execution_count": 13,
      "outputs": [
        {
          "output_type": "stream",
          "text": [
            "/content/sample_data\n"
          ],
          "name": "stdout"
        }
      ]
    },
    {
      "metadata": {
        "id": "db8PiN6AYLeU",
        "colab_type": "code",
        "colab": {
          "base_uri": "https://localhost:8080/",
          "height": 68
        },
        "outputId": "bbc3a3ca-5e90-4ed1-e417-53337d12cbbd"
      },
      "cell_type": "code",
      "source": [
        "ls"
      ],
      "execution_count": 14,
      "outputs": [
        {
          "output_type": "stream",
          "text": [
            "\u001b[0m\u001b[01;32manscombe.json\u001b[0m*                mnist_test.csv\n",
            "california_housing_test.csv   mnist_train_small.csv\n",
            "california_housing_train.csv  \u001b[01;32mREADME.md\u001b[0m*\n"
          ],
          "name": "stdout"
        }
      ]
    },
    {
      "metadata": {
        "id": "qGbXa46oYUu2",
        "colab_type": "code",
        "colab": {
          "base_uri": "https://localhost:8080/",
          "height": 34
        },
        "outputId": "3e7b303f-b2c9-4ce4-8fca-73788c655c88"
      },
      "cell_type": "code",
      "source": [
        "cd .."
      ],
      "execution_count": 15,
      "outputs": [
        {
          "output_type": "stream",
          "text": [
            "/content\n"
          ],
          "name": "stdout"
        }
      ]
    },
    {
      "metadata": {
        "id": "7juCR5xHYZQj",
        "colab_type": "code",
        "colab": {
          "base_uri": "https://localhost:8080/",
          "height": 51
        },
        "outputId": "7fd7ba39-0296-4b2c-fcb7-96c23ef21830"
      },
      "cell_type": "code",
      "source": [
        "ls"
      ],
      "execution_count": 16,
      "outputs": [
        {
          "output_type": "stream",
          "text": [
            "kaggle.json   sample_submission.csv  train.csv\n",
            "\u001b[0m\u001b[01;34msample_data\u001b[0m/  test.zip               train.zip\n"
          ],
          "name": "stdout"
        }
      ]
    },
    {
      "metadata": {
        "id": "sVzUw3lGYf7h",
        "colab_type": "code",
        "colab": {
          "base_uri": "https://localhost:8080/",
          "height": 163
        },
        "outputId": "dac27f89-2ba0-43ec-c5da-0c02eaafceed"
      },
      "cell_type": "code",
      "source": [
        "del sample_data"
      ],
      "execution_count": 21,
      "outputs": [
        {
          "output_type": "error",
          "ename": "NameError",
          "evalue": "ignored",
          "traceback": [
            "\u001b[0;31m---------------------------------------------------------------------------\u001b[0m",
            "\u001b[0;31mNameError\u001b[0m                                 Traceback (most recent call last)",
            "\u001b[0;32m<ipython-input-21-25bf33353e9c>\u001b[0m in \u001b[0;36m<module>\u001b[0;34m()\u001b[0m\n\u001b[0;32m----> 1\u001b[0;31m \u001b[0;32mdel\u001b[0m \u001b[0msample_data\u001b[0m\u001b[0;34m\u001b[0m\u001b[0;34m\u001b[0m\u001b[0m\n\u001b[0m",
            "\u001b[0;31mNameError\u001b[0m: name 'sample_data' is not defined"
          ]
        }
      ]
    },
    {
      "metadata": {
        "_cell_guid": "79c7e3d0-c299-4dcb-8224-4455121ee9b0",
        "_uuid": "d629ff2d2480ee46fbb7e2d37f6b5fab8052498a",
        "trusted": true,
        "id": "AfgXOcjbKCqF",
        "colab_type": "code",
        "colab": {}
      },
      "cell_type": "code",
      "source": [
        "train_labels = pd.read_csv(\"../input/human-protein-atlas-image-classification/train.csv\")\n",
        "train_labels.head()"
      ],
      "execution_count": 0,
      "outputs": []
    },
    {
      "metadata": {
        "_uuid": "69a6b9c1584ebcf68b5aab128199f524daccd365",
        "id": "aJMzvQkEKCqO",
        "colab_type": "text"
      },
      "cell_type": "markdown",
      "source": [
        "How many samples do we have?"
      ]
    },
    {
      "metadata": {
        "trusted": true,
        "_uuid": "abaa2a7225e485102ceae9bdda12f4cf835c492f",
        "_kg_hide-input": true,
        "id": "qFXYnSypKCqR",
        "colab_type": "code",
        "colab": {}
      },
      "cell_type": "code",
      "source": [
        "train_labels.shape[0]"
      ],
      "execution_count": 0,
      "outputs": []
    },
    {
      "metadata": {
        "_uuid": "882bba3d7f68f209051fea3899f046bd96dc2915",
        "id": "KyGiEpzOKCqb",
        "colab_type": "text"
      },
      "cell_type": "markdown",
      "source": [
        "## Helper code"
      ]
    },
    {
      "metadata": {
        "_kg_hide-input": true,
        "trusted": true,
        "_uuid": "beaac70d0392fab7c5b1d49649a8c994310320e4",
        "id": "S6wBGlx1KCqd",
        "colab_type": "code",
        "colab": {}
      },
      "cell_type": "code",
      "source": [
        "label_names = {\n",
        "    0:  \"Nucleoplasm\",  \n",
        "    1:  \"Nuclear membrane\",   \n",
        "    2:  \"Nucleoli\",   \n",
        "    3:  \"Nucleoli fibrillar center\",   \n",
        "    4:  \"Nuclear speckles\",\n",
        "    5:  \"Nuclear bodies\",   \n",
        "    6:  \"Endoplasmic reticulum\",   \n",
        "    7:  \"Golgi apparatus\",   \n",
        "    8:  \"Peroxisomes\",   \n",
        "    9:  \"Endosomes\",   \n",
        "    10:  \"Lysosomes\",   \n",
        "    11:  \"Intermediate filaments\",   \n",
        "    12:  \"Actin filaments\",   \n",
        "    13:  \"Focal adhesion sites\",   \n",
        "    14:  \"Microtubules\",   \n",
        "    15:  \"Microtubule ends\",   \n",
        "    16:  \"Cytokinetic bridge\",   \n",
        "    17:  \"Mitotic spindle\",   \n",
        "    18:  \"Microtubule organizing center\",   \n",
        "    19:  \"Centrosome\",   \n",
        "    20:  \"Lipid droplets\",   \n",
        "    21:  \"Plasma membrane\",   \n",
        "    22:  \"Cell junctions\",   \n",
        "    23:  \"Mitochondria\",   \n",
        "    24:  \"Aggresome\",   \n",
        "    25:  \"Cytosol\",   \n",
        "    26:  \"Cytoplasmic bodies\",   \n",
        "    27:  \"Rods & rings\"\n",
        "}\n",
        "\n",
        "reverse_train_labels = dict((v,k) for k,v in label_names.items())\n",
        "\n",
        "def fill_targets(row):\n",
        "    row.Target = np.array(row.Target.split(\" \")).astype(np.int)\n",
        "    for num in row.Target:\n",
        "        name = label_names[int(num)]\n",
        "        row.loc[name] = 1\n",
        "    return row"
      ],
      "execution_count": 0,
      "outputs": []
    },
    {
      "metadata": {
        "_uuid": "707280dec8e4b10dc743b5473ba8d1c4492141ff",
        "id": "heJ6BmUHKCqo",
        "colab_type": "text"
      },
      "cell_type": "markdown",
      "source": [
        "## Which proteins occur most often in images?"
      ]
    },
    {
      "metadata": {
        "_kg_hide-input": true,
        "trusted": true,
        "_uuid": "13a1f4fd6b594cd4a225f6d79d966096d1c800ae",
        "id": "i0R2No3HKCqq",
        "colab_type": "code",
        "colab": {}
      },
      "cell_type": "code",
      "source": [
        "for key in label_names.keys():\n",
        "    train_labels[label_names[key]] = 0"
      ],
      "execution_count": 0,
      "outputs": []
    },
    {
      "metadata": {
        "_kg_hide-input": true,
        "trusted": true,
        "_uuid": "3662893c91d0f74fe666300c214f67cfb03060c7",
        "id": "8PrWDmEeKCq5",
        "colab_type": "code",
        "colab": {}
      },
      "cell_type": "code",
      "source": [
        "train_labels = train_labels.apply(fill_targets, axis=1)\n",
        "train_labels.head()"
      ],
      "execution_count": 0,
      "outputs": []
    },
    {
      "metadata": {
        "_kg_hide-input": true,
        "trusted": true,
        "_uuid": "f516b3a1a297a167264b0f22803de231096c9719",
        "id": "ERuuaRriKCrJ",
        "colab_type": "code",
        "colab": {}
      },
      "cell_type": "code",
      "source": [
        "target_counts = train_labels.drop([\"Id\", \"Target\"],axis=1).sum(axis=0).sort_values(ascending=False)\n",
        "plt.figure(figsize=(15,15))\n",
        "sns.barplot(y=target_counts.index.values, x=target_counts.values, order=target_counts.index)"
      ],
      "execution_count": 0,
      "outputs": []
    },
    {
      "metadata": {
        "_uuid": "af190deeab9f05afcba339f31c7162d841e58b33",
        "id": "BH20l3uZKCrX",
        "colab_type": "text"
      },
      "cell_type": "markdown",
      "source": [
        "### Take-Away\n",
        "\n",
        "* We can see that most common protein structures belong to coarse grained cellular components like the plasma membrane, the cytosol and the nucleus. \n",
        "* In contrast small components like the lipid droplets, peroxisomes, endosomes, lysosomes, microtubule ends, rods and rings are very seldom in our train data. For these classes the prediction will be very difficult as we have only a few examples that may not cover all variabilities and as our model probably will be confused during ins learning process by the major classes. Due to this confusion we will make less accurate predictions on the minor classes.\n",
        "* Consequently accuracy is not the right score here to measure your performance and validation strategy should be very fine. "
      ]
    },
    {
      "metadata": {
        "_uuid": "40bff26b2d170e9936c5e6ce4fbef12e7cb4f2ba",
        "id": "2jKtRvhRKCrc",
        "colab_type": "text"
      },
      "cell_type": "markdown",
      "source": [
        "## How many targets are most common?"
      ]
    },
    {
      "metadata": {
        "trusted": true,
        "_uuid": "313f47ac92fa1ff241148af6282c200451edbea7",
        "_kg_hide-input": true,
        "id": "SO5rBq93KCrg",
        "colab_type": "code",
        "colab": {}
      },
      "cell_type": "code",
      "source": [
        "train_labels[\"number_of_targets\"] = train_labels.drop([\"Id\", \"Target\"],axis=1).sum(axis=1)\n",
        "count_perc = np.round(100 * train_labels[\"number_of_targets\"].value_counts() / train_labels.shape[0], 2)\n",
        "plt.figure(figsize=(20,5))\n",
        "sns.barplot(x=count_perc.index.values, y=count_perc.values, palette=\"Reds\")\n",
        "plt.xlabel(\"Number of targets per image\")\n",
        "plt.ylabel(\"% of train data\")"
      ],
      "execution_count": 0,
      "outputs": []
    },
    {
      "metadata": {
        "_uuid": "d6e2a72c6f544f4d03a7f0e273a5819982b58108",
        "id": "V6kJrMQBKCrq",
        "colab_type": "text"
      },
      "cell_type": "markdown",
      "source": [
        "### Take-away\n",
        "\n",
        "* Most train images only have 1 or two target labels.\n",
        "* More than 3 targets are very seldom!"
      ]
    },
    {
      "metadata": {
        "_uuid": "cb957f819453857d62a96a236febabcfb9ce5a22",
        "id": "xcw6_gLGKCru",
        "colab_type": "text"
      },
      "cell_type": "markdown",
      "source": [
        "## Which targets are correlated?\n",
        "\n",
        "Let's see if we find some correlations between our targets. This way we may already see that some proteins often come together."
      ]
    },
    {
      "metadata": {
        "trusted": true,
        "_uuid": "b3c0f5a77e34296416136ca2800b8623f94885d8",
        "_kg_hide-input": true,
        "id": "-SMBD9GxKCrw",
        "colab_type": "code",
        "colab": {}
      },
      "cell_type": "code",
      "source": [
        "plt.figure(figsize=(15,15))\n",
        "sns.heatmap(train_labels[train_labels.number_of_targets>1].drop(\n",
        "    [\"Id\", \"Target\", \"number_of_targets\"],axis=1\n",
        ").corr(), cmap=\"RdYlBu\", vmin=-1, vmax=1)"
      ],
      "execution_count": 0,
      "outputs": []
    },
    {
      "metadata": {
        "trusted": true,
        "_uuid": "c8083f38bf943a2d38c86544cf322ffe721d8a19",
        "id": "euEuPHdLKCsA",
        "colab_type": "text"
      },
      "cell_type": "markdown",
      "source": [
        "### Take-away\n",
        "\n",
        "* We can see that many targets only have very slight correlations. \n",
        "* In contrast, endosomes and lysosomes often occur together and sometimes seem to be located at the endoplasmatic reticulum. \n",
        "* In addition we find that the mitotic spindle often comes together with the cytokinetic bridge. This makes sense as both are participants for cellular division. And in this process microtubules and thier ends are active and participate as well. Consequently we find a positive correlation between these targets.\n",
        "\n",
        "If you like to dive deeper into target correlations you may like to take a look at my kernel notebook about [target clustering.](https://www.kaggle.com/allunia/in-depth-protein-correlations) :-)"
      ]
    },
    {
      "metadata": {
        "_uuid": "3b7bc009eb7ec4b6d24e4e0951d5d799ac42d289",
        "id": "XOl4pP9lKCsE",
        "colab_type": "text"
      },
      "cell_type": "markdown",
      "source": [
        "## How are special and seldom targets grouped?"
      ]
    },
    {
      "metadata": {
        "_uuid": "6f0bf1de2bf7c2550cd7bb320a16ce0d79b25087",
        "id": "gQX9o7rIKCsN",
        "colab_type": "text"
      },
      "cell_type": "markdown",
      "source": [
        "### Lysosomes and endosomes\n",
        "\n",
        "Let's start with these high correlated features!"
      ]
    },
    {
      "metadata": {
        "trusted": true,
        "_uuid": "86c06ed4c0dbf02c605e447a5ecc40373b35771a",
        "_kg_hide-input": true,
        "id": "cEIdFIBQKCsS",
        "colab_type": "code",
        "colab": {}
      },
      "cell_type": "code",
      "source": [
        "def find_counts(special_target, labels):\n",
        "    counts = labels[labels[special_target] == 1].drop(\n",
        "        [\"Id\", \"Target\", \"number_of_targets\"],axis=1\n",
        "    ).sum(axis=0)\n",
        "    counts = counts[counts > 0]\n",
        "    counts = counts.sort_values()\n",
        "    return counts"
      ],
      "execution_count": 0,
      "outputs": []
    },
    {
      "metadata": {
        "trusted": true,
        "_uuid": "e2af724b721a15ebd294771629fb270c9ad9f0ae",
        "_kg_hide-input": true,
        "id": "OsnWEkrXKCs6",
        "colab_type": "code",
        "colab": {}
      },
      "cell_type": "code",
      "source": [
        "lyso_endo_counts = find_counts(\"Lysosomes\", train_labels)\n",
        "\n",
        "plt.figure(figsize=(10,3))\n",
        "sns.barplot(x=lyso_endo_counts.index.values, y=lyso_endo_counts.values, palette=\"Blues\")\n",
        "plt.ylabel(\"Counts in train data\")"
      ],
      "execution_count": 0,
      "outputs": []
    },
    {
      "metadata": {
        "_uuid": "dc6dbcea143b60d0ef360e75d14b53b09d36e7be",
        "id": "4lsqEyTsKCtC",
        "colab_type": "text"
      },
      "cell_type": "markdown",
      "source": [
        "### Rods and rings"
      ]
    },
    {
      "metadata": {
        "trusted": true,
        "_uuid": "5f13e4113cfb00ec8b2de6d01fb548e10b794279",
        "_kg_hide-input": true,
        "id": "AH_et7_DKCtF",
        "colab_type": "code",
        "colab": {}
      },
      "cell_type": "code",
      "source": [
        "rod_rings_counts = find_counts(\"Rods & rings\", train_labels)\n",
        "plt.figure(figsize=(15,3))\n",
        "sns.barplot(x=rod_rings_counts.index.values, y=rod_rings_counts.values, palette=\"Greens\")\n",
        "plt.ylabel(\"Counts in train data\")"
      ],
      "execution_count": 0,
      "outputs": []
    },
    {
      "metadata": {
        "_uuid": "fea4a1a472bf60fdc1a5317a2e616c98b781f7ab",
        "id": "kv0OwxP6KCtQ",
        "colab_type": "text"
      },
      "cell_type": "markdown",
      "source": [
        "### Peroxisomes"
      ]
    },
    {
      "metadata": {
        "trusted": true,
        "_uuid": "11fef619f19eafc3657d693d05f7a50c786e0621",
        "_kg_hide-input": true,
        "id": "OqprdCw9KCtS",
        "colab_type": "code",
        "colab": {}
      },
      "cell_type": "code",
      "source": [
        "peroxi_counts = find_counts(\"Peroxisomes\", train_labels)\n",
        "\n",
        "plt.figure(figsize=(15,3))\n",
        "sns.barplot(x=peroxi_counts.index.values, y=peroxi_counts.values, palette=\"Reds\")\n",
        "plt.ylabel(\"Counts in train data\")"
      ],
      "execution_count": 0,
      "outputs": []
    },
    {
      "metadata": {
        "_uuid": "555447f455cac28ec0c84b09b89f32b657371470",
        "id": "Rxwf7eNIKCtg",
        "colab_type": "text"
      },
      "cell_type": "markdown",
      "source": [
        "### Microtubule ends"
      ]
    },
    {
      "metadata": {
        "trusted": true,
        "_uuid": "a543faa3994e6bd7b57fda135ea4b5bea40efed3",
        "_kg_hide-input": true,
        "id": "Z3yYkgu-KCtj",
        "colab_type": "code",
        "colab": {}
      },
      "cell_type": "code",
      "source": [
        "tubeends_counts = find_counts(\"Microtubule ends\", train_labels)\n",
        "\n",
        "plt.figure(figsize=(15,3))\n",
        "sns.barplot(x=tubeends_counts.index.values, y=tubeends_counts.values, palette=\"Purples\")\n",
        "plt.ylabel(\"Counts in train data\")"
      ],
      "execution_count": 0,
      "outputs": []
    },
    {
      "metadata": {
        "_uuid": "0a04ae9a48f60f02021c0dba920b2ac3d6d65b38",
        "id": "G0IJCWYhKCtt",
        "colab_type": "text"
      },
      "cell_type": "markdown",
      "source": [
        "### Nuclear speckles"
      ]
    },
    {
      "metadata": {
        "trusted": true,
        "_uuid": "85d838037fc3310b9eef31dc4e6c64e1bc35efec",
        "_kg_hide-input": true,
        "id": "shmyvLksKCtv",
        "colab_type": "code",
        "colab": {}
      },
      "cell_type": "code",
      "source": [
        "nuclear_speckles_counts = find_counts(\"Nuclear speckles\", train_labels)\n",
        "\n",
        "plt.figure(figsize=(15,3))\n",
        "sns.barplot(x=nuclear_speckles_counts.index.values, y=nuclear_speckles_counts.values, palette=\"Oranges\")\n",
        "plt.xticks(rotation=\"70\")\n",
        "plt.ylabel(\"Counts in train data\");"
      ],
      "execution_count": 0,
      "outputs": []
    },
    {
      "metadata": {
        "_uuid": "ba2b973b09d2436f65e8775b214d377d46b29188",
        "id": "bhZZpnpDKCt2",
        "colab_type": "text"
      },
      "cell_type": "markdown",
      "source": [
        "### Take-away\n",
        "\n",
        "* We can see that even with very seldom targets we find some kind of grouping with other targets that reveal where the protein structure seems to be located. \n",
        "* For example, we can see that rods and rings have something to do with the nucleus whereas peroxisomes may be located in the nucleus as well as in the cytosol.\n",
        "* Perhaps this patterns might help to build a more robust model!  "
      ]
    },
    {
      "metadata": {
        "_uuid": "0714e168ea347df2111124d0f341de3172bac00d",
        "id": "7LUh4QIlKCt4",
        "colab_type": "text"
      },
      "cell_type": "markdown",
      "source": [
        "## How do the images look like?\n",
        "\n"
      ]
    },
    {
      "metadata": {
        "_uuid": "4af4b12200fd62e7726ff8a481d7566e564947ad",
        "id": "2mMZ1k1tKCt7",
        "colab_type": "text"
      },
      "cell_type": "markdown",
      "source": [
        "### Peek into the directory\n",
        "\n",
        "Before we start loading images, let's have a look into the train directory to get an impression of what we can find there:"
      ]
    },
    {
      "metadata": {
        "_kg_hide-input": true,
        "trusted": true,
        "_uuid": "1d11fa62aaa798cfcb8671b7aac0e4cd4fa18776",
        "id": "AvG_1cjMKCt-",
        "colab_type": "code",
        "colab": {}
      },
      "cell_type": "code",
      "source": [
        "from os import listdir\n",
        "\n",
        "files = listdir(\"../input/human-protein-atlas-image-classification/train\")\n",
        "for n in range(10):\n",
        "    print(files[n])"
      ],
      "execution_count": 0,
      "outputs": []
    },
    {
      "metadata": {
        "_uuid": "8f8804380faaaeb428227dec5ee280f27c57baea",
        "id": "oXztkkThKCuJ",
        "colab_type": "text"
      },
      "cell_type": "markdown",
      "source": [
        "Ah, ok, great! It seems that for one image id, there are different color channels present. Looking into the data description of this competition we can find that:\n",
        "\n",
        "* Each image is actually splitted into 4 different image files. \n",
        "* These 4 files correspond to 4 different filter:\n",
        "    * a **green** filter for the **target protein structure** of interest\n",
        "    * **blue** landmark filter for the **nucleus**\n",
        "    * **red** landmark filter for **microtubules**\n",
        "    * **yellow** landmark filter for the **endoplasmatic reticulum**\n",
        "* Each image is of size 512 x 512"
      ]
    },
    {
      "metadata": {
        "_uuid": "e29074f7ddba22fbdd2275fdc8782dc2dd5885c6",
        "id": "6uJ1RLfuKCuM",
        "colab_type": "text"
      },
      "cell_type": "markdown",
      "source": [
        "Let's check if the number of files divided by 4 yields the number of target samples:"
      ]
    },
    {
      "metadata": {
        "_kg_hide-input": true,
        "trusted": true,
        "_uuid": "8545dd9afec3e0cdc02873375ba81ff4f4658aab",
        "id": "KtSnl-a6KCuO",
        "colab_type": "code",
        "colab": {}
      },
      "cell_type": "code",
      "source": [
        "len(files) / 4 == train_labels.shape[0]"
      ],
      "execution_count": 0,
      "outputs": []
    },
    {
      "metadata": {
        "_uuid": "b89a5ae1b6e358d7100c79e5a2cdc5d77ff88cc2",
        "id": "uvi3TVa6KCuY",
        "colab_type": "text"
      },
      "cell_type": "markdown",
      "source": [
        "## How do images of specific targets look like?\n",
        "\n",
        "While looking at examples, we can build an batch loader:"
      ]
    },
    {
      "metadata": {
        "trusted": true,
        "_uuid": "ce954da724c8a400c12080f8c3f986a537d4a4c4",
        "id": "21z7N9SJKCub",
        "colab_type": "code",
        "colab": {}
      },
      "cell_type": "code",
      "source": [
        "train_path = \"../input/human-protein-atlas-image-classification/train/\""
      ],
      "execution_count": 0,
      "outputs": []
    },
    {
      "metadata": {
        "trusted": true,
        "_uuid": "c7e4ffb20ebaee046d888620d0cf016f0cebf2c4",
        "_kg_hide-input": true,
        "id": "BESeCz-FKCun",
        "colab_type": "code",
        "colab": {}
      },
      "cell_type": "code",
      "source": [
        "def load_image(basepath, image_id):\n",
        "    images = np.zeros(shape=(4,512,512))\n",
        "    images[0,:,:] = imread(basepath + image_id + \"_green\" + \".png\")\n",
        "    images[1,:,:] = imread(basepath + image_id + \"_red\" + \".png\")\n",
        "    images[2,:,:] = imread(basepath + image_id + \"_blue\" + \".png\")\n",
        "    images[3,:,:] = imread(basepath + image_id + \"_yellow\" + \".png\")\n",
        "    return images\n",
        "\n",
        "def make_image_row(image, subax, title):\n",
        "    subax[0].imshow(image[0], cmap=\"Greens\")\n",
        "    subax[1].imshow(image[1], cmap=\"Reds\")\n",
        "    subax[1].set_title(\"stained microtubules\")\n",
        "    subax[2].imshow(image[2], cmap=\"Blues\")\n",
        "    subax[2].set_title(\"stained nucleus\")\n",
        "    subax[3].imshow(image[3], cmap=\"Oranges\")\n",
        "    subax[3].set_title(\"stained endoplasmatic reticulum\")\n",
        "    subax[0].set_title(title)\n",
        "    return subax\n",
        "\n",
        "def make_title(file_id):\n",
        "    file_targets = train_labels.loc[train_labels.Id==file_id, \"Target\"].values[0]\n",
        "    title = \" - \"\n",
        "    for n in file_targets:\n",
        "        title += label_names[n] + \" - \"\n",
        "    return title"
      ],
      "execution_count": 0,
      "outputs": []
    },
    {
      "metadata": {
        "trusted": true,
        "_uuid": "090d1b258d2641e747e58a49376ab3d32b3893b8",
        "_kg_hide-input": true,
        "id": "x-sOSmqPKCux",
        "colab_type": "code",
        "colab": {}
      },
      "cell_type": "code",
      "source": [
        "class TargetGroupIterator:\n",
        "    \n",
        "    def __init__(self, target_names, batch_size, basepath):\n",
        "        self.target_names = target_names\n",
        "        self.target_list = [reverse_train_labels[key] for key in target_names]\n",
        "        self.batch_shape = (batch_size, 4, 512, 512)\n",
        "        self.basepath = basepath\n",
        "    \n",
        "    def find_matching_data_entries(self):\n",
        "        train_labels[\"check_col\"] = train_labels.Target.apply(\n",
        "            lambda l: self.check_subset(l)\n",
        "        )\n",
        "        self.images_identifier = train_labels[train_labels.check_col==1].Id.values\n",
        "        train_labels.drop(\"check_col\", axis=1, inplace=True)\n",
        "    \n",
        "    def check_subset(self, targets):\n",
        "        return np.where(set(targets).issubset(set(self.target_list)), 1, 0)\n",
        "    \n",
        "    def get_loader(self):\n",
        "        filenames = []\n",
        "        idx = 0\n",
        "        images = np.zeros(self.batch_shape)\n",
        "        for image_id in self.images_identifier:\n",
        "            images[idx,:,:,:] = load_image(self.basepath, image_id)\n",
        "            filenames.append(image_id)\n",
        "            idx += 1\n",
        "            if idx == self.batch_shape[0]:\n",
        "                yield filenames, images\n",
        "                filenames = []\n",
        "                images = np.zeros(self.batch_shape)\n",
        "                idx = 0\n",
        "        if idx > 0:\n",
        "            yield filenames, images\n",
        "            "
      ],
      "execution_count": 0,
      "outputs": []
    },
    {
      "metadata": {
        "_uuid": "61ba9ebe5b6bfbea57d24e43bc8f4a1c2638d5eb",
        "id": "k3YGGQ-nKCu3",
        "colab_type": "text"
      },
      "cell_type": "markdown",
      "source": [
        "Let's try to visualize specific target groups. **In this example we will see images that contain the protein structures lysosomes or endosomes**. Set target values of your choice and the target group iterator will collect all images that are subset of your choice:"
      ]
    },
    {
      "metadata": {
        "trusted": true,
        "_uuid": "445f454dc36c1f4056bc870e8810f219f1c560ea",
        "id": "cLyzEr4HKCu6",
        "colab_type": "code",
        "colab": {}
      },
      "cell_type": "code",
      "source": [
        "your_choice = [\"Lysosomes\", \"Endosomes\"]\n",
        "your_batch_size = 20"
      ],
      "execution_count": 0,
      "outputs": []
    },
    {
      "metadata": {
        "trusted": true,
        "_uuid": "6dcd0c8f57651ba21b82420edd37f70f93953215",
        "_kg_hide-input": true,
        "id": "FB9t7xRyKCvA",
        "colab_type": "code",
        "colab": {}
      },
      "cell_type": "code",
      "source": [
        "imageloader = TargetGroupIterator(your_choice, your_batch_size, train_path)\n",
        "imageloader.find_matching_data_entries()\n",
        "iterator = imageloader.get_loader()"
      ],
      "execution_count": 0,
      "outputs": []
    },
    {
      "metadata": {
        "_uuid": "7d1f440b6ed70150f46a76970b544752f0d194a5",
        "id": "E7dQ5rqaKCvG",
        "colab_type": "text"
      },
      "cell_type": "markdown",
      "source": [
        "To keep the kernel dense, the target group iterator has a batch size which stands for the number of examples you like to look at once. In this example you can see a maximum amount of 3 images at one iteration.  **To observe the next 3 examples of your target group, just run the cell below again.** This way you can run the cell until you have seen all images of your group without polluting the kernel:"
      ]
    },
    {
      "metadata": {
        "_kg_hide-input": true,
        "trusted": true,
        "_uuid": "5f7c98a6e15c081fcbe54c4e678ea2ea5ae4fbd7",
        "scrolled": false,
        "id": "nFLHajJ-KCvJ",
        "colab_type": "code",
        "colab": {}
      },
      "cell_type": "code",
      "source": [
        "file_ids, images = next(iterator)\n",
        "\n",
        "fig, ax = plt.subplots(len(file_ids),4,figsize=(20,5*len(file_ids)))\n",
        "if ax.shape == (4,):\n",
        "    ax = ax.reshape(1,-1)\n",
        "for n in range(len(file_ids)):\n",
        "    make_image_row(images[n], ax[n], make_title(file_ids[n]))"
      ],
      "execution_count": 0,
      "outputs": []
    },
    {
      "metadata": {
        "_uuid": "a66576fbdab4678c42d183017335d1ef27eed655",
        "id": "GinU382eKCvU",
        "colab_type": "text"
      },
      "cell_type": "markdown",
      "source": [
        "### Take-Away\n",
        "\n",
        "* Looking at this few examples we can already obtain some insights:\n",
        "    * The staining of target proteins in the green channel was not equally successful. The **images differ in their intensities and the target proteins are not always located the same way**. The first image you can get by the loader shows endosomes that are spread all over the cells and in the second and third you can find endosomes and lysosomes more concetrated around the nucleus. \n",
        "    * Especially **in the red channel we can see morphological differences**. It looks like if the cells are of different types. This is just an assumption but perhaps one could use the red channel information to reveal cell types. \n",
        "* Clicking this code tab again with other targets you can observe that the images can contain different cell densities. **Sometimes the whole image is covered with cells and sometimes there are only a few**. In addition we can see that **some images have higher values whereas others are sallow with overall low values**. If we like to detect same targets out of different bright images, this will cause problems as we expect them to be in a similar value range. "
      ]
    },
    {
      "metadata": {
        "_uuid": "ad5c5a22a659540bcb3da81453a6ef2cfaa958cc",
        "id": "mn93Q2BdKCvX",
        "colab_type": "text"
      },
      "cell_type": "markdown",
      "source": [
        "## Building a baseline model"
      ]
    },
    {
      "metadata": {
        "_uuid": "8dd65575d8a244f142b060aeb5cca30db9f27576",
        "id": "1eaPd6sEKCvZ",
        "colab_type": "text"
      },
      "cell_type": "markdown",
      "source": [
        "### K-Fold Cross-Validation"
      ]
    },
    {
      "metadata": {
        "_uuid": "63437e877ed24bd86d34d5c7e8cd9f9e98d29d59",
        "id": "K7O9znLUKCvc",
        "colab_type": "text"
      },
      "cell_type": "markdown",
      "source": [
        "Let's see how many test and train samples we have in this competition:"
      ]
    },
    {
      "metadata": {
        "trusted": true,
        "_uuid": "b2d74fa662ec90ebc2912105848daf7301845ef8",
        "_kg_hide-input": true,
        "id": "7PaJO9H1KCvg",
        "colab_type": "code",
        "colab": {}
      },
      "cell_type": "code",
      "source": [
        "train_files = listdir(\"../input/human-protein-atlas-image-classification/train\")\n",
        "test_files = listdir(\"../input/human-protein-atlas-image-classification/test\")\n",
        "percentage = np.round(len(test_files) / len(train_files) * 100)\n",
        "\n",
        "print(\"The test set size turns out to be {} % compared to the train set.\".format(percentage))"
      ],
      "execution_count": 0,
      "outputs": []
    },
    {
      "metadata": {
        "_uuid": "2d9613edd4f1a05b54d79dbe142b78e8cbec7625",
        "id": "C-gTgFqzKCvn",
        "colab_type": "text"
      },
      "cell_type": "markdown",
      "source": [
        "To understand the performance of our model we will use **k-fold cross validation**. The train data is splitted into k chunks and each chunk is used once for testing the prediction performance whereas the others are used for training. As our targets show relationships seemed to be grouped somehow the performance per test chunk probably highly depends on the target distribution per test chunk. For example there could be chunks with very seldom targets that may obtain a bad score and some chunks with very common targets and a very good score. To reduce this effect, we will **repeat the K-Fold several times** and look at scoing distributions in the end."
      ]
    },
    {
      "metadata": {
        "_uuid": "d94c71d94925daa6fe0a71a07c1da985925f7d91",
        "id": "a9Qf_FZoKCvp",
        "colab_type": "text"
      },
      "cell_type": "markdown",
      "source": [
        "As our test data is 38 % of size compared to the train set it makes sense to use 3-Fold cross validation where the test set is 33 % of size compared to the train set. As we are working with neural networks that can be demanding in computational resources, let's only use 2 repetitions. "
      ]
    },
    {
      "metadata": {
        "trusted": true,
        "_uuid": "29a024cbd71145018c36342a5e8a483b6e010f5b",
        "id": "xTEJA47SKCv0",
        "colab_type": "code",
        "colab": {}
      },
      "cell_type": "code",
      "source": [
        "from sklearn.model_selection import RepeatedKFold\n",
        "\n",
        "splitter = RepeatedKFold(n_splits=3, n_repeats=1, random_state=0)"
      ],
      "execution_count": 0,
      "outputs": []
    },
    {
      "metadata": {
        "_uuid": "37fc0f4495c93fc45379aab2eb156fdbd4d3f7c3",
        "id": "sRuyu2jxKCv6",
        "colab_type": "text"
      },
      "cell_type": "markdown",
      "source": [
        "This splitter is now a generator. Hence if you call splitters split method it will yield one Fold of the repeated K-Folds. Consequently if we choose n_repeats=2 we will end up with 6 Folds in total: 3 Folds for the first cross validation and again 3 Folds for the repeated cross validation. We will perform the splitting on the image ids. This way we can easily load images and targets given the chunk ids. **Due to performance reasons I will only use one cv-fold to explore results and one repeat!**"
      ]
    },
    {
      "metadata": {
        "trusted": true,
        "_uuid": "539a35dfd7d735d7068f32277146e60e15729e55",
        "id": "MNGy9e3jKCv8",
        "colab_type": "code",
        "colab": {}
      },
      "cell_type": "code",
      "source": [
        "partitions = []\n",
        "\n",
        "for train_idx, test_idx in splitter.split(train_labels.index.values):\n",
        "    partition = {}\n",
        "    partition[\"train\"] = train_labels.Id.values[train_idx]\n",
        "    partition[\"validation\"] = train_labels.Id.values[test_idx]\n",
        "    partitions.append(partition)\n",
        "    print(\"TRAIN:\", train_idx, \"TEST:\", test_idx)\n",
        "    print(\"TRAIN:\", len(train_idx), \"TEST:\", len(test_idx))"
      ],
      "execution_count": 0,
      "outputs": []
    },
    {
      "metadata": {
        "trusted": true,
        "_uuid": "65f4c326d8f32f13872d0dfaaad2bbbfdda257a7",
        "id": "oDSIAgZZKCwE",
        "colab_type": "code",
        "colab": {}
      },
      "cell_type": "code",
      "source": [
        "partitions[0][\"train\"][0:5]"
      ],
      "execution_count": 0,
      "outputs": []
    },
    {
      "metadata": {
        "_uuid": "e0c336986b46a35c224dd447190fbb8c553bb64a",
        "id": "Mp2GMGv_KCwT",
        "colab_type": "text"
      },
      "cell_type": "markdown",
      "source": [
        "### Collecting ideas\n",
        "\n",
        "Next we need to setup a simple baseline model. This need not be very complex or very good. Its our first attempt to play with and to figure out how to improve. For this purpose let's use the deep learning library [keras](https://keras.io/). This tools makes it easy for us to build and train neural networks. First of all, we should collect some ideas:\n",
        "\n",
        "* To **stay simple let's use only the green channel image of our images per id**. The competition says that it shows the stained target proteins and consequently it's hopefully the most informative one. The other images are like references showing microtubules, nucleus and endoplasmatic reticulum. We don't acutally now how informative they are and in our current state they would blow up our neural network with a huge amount of network weigths that we might not need.\n",
        "* Let's use **generators to only load data images of our batch and not all in once**. Using keras fit_generator, evaluate_generator and predict_generator we can directly connect them to keras without worrying much about how keras does its job. For this purpose I highly follow a descprition of a post in the www for which you will find the link below.\n",
        "* It could be advantegous to write a **small class that does simple preprocessing per image.** This way we can easily change something of this phase without producing chaos in the model itself or during data loading.   \n",
        "* I'm going to use a **small class that hold parameters that are used or shared between the data loader, the image preprocessor and the baseline model**. Passing an instance of this class to them reduced the risk of setting different parameters and obtaining mismatch errors for example during build & compile of the network layers. \n"
      ]
    },
    {
      "metadata": {
        "_uuid": "5cd298c9360c772a9c8b7946425449db8be0ab8f",
        "id": "szMi-O_WKCwY",
        "colab_type": "text"
      },
      "cell_type": "markdown",
      "source": [
        "### Shared Parameter class"
      ]
    },
    {
      "metadata": {
        "trusted": true,
        "_uuid": "96df4f1aa1085b95b806b48071c0737d45a5b708",
        "_kg_hide-input": true,
        "id": "poNw9iUiKCwc",
        "colab_type": "code",
        "colab": {}
      },
      "cell_type": "code",
      "source": [
        "class ModelParameter:\n",
        "    \n",
        "    def __init__(self, basepath,\n",
        "                 num_classes=28,\n",
        "                 image_rows=512,\n",
        "                 image_cols=512,\n",
        "                 batch_size=200,\n",
        "                 n_channels=1,\n",
        "                 row_scale_factor=4,\n",
        "                 col_scale_factor=4,\n",
        "                 shuffle=False,\n",
        "                 n_epochs=1):\n",
        "        self.basepath = basepath\n",
        "        self.num_classes = num_classes\n",
        "        self.image_rows = image_rows\n",
        "        self.image_cols = image_cols\n",
        "        self.batch_size = batch_size\n",
        "        self.n_channels = n_channels\n",
        "        self.shuffle = shuffle\n",
        "        self.row_scale_factor = row_scale_factor\n",
        "        self.col_scale_factor = col_scale_factor\n",
        "        self.scaled_row_dim = np.int(self.image_rows / self.row_scale_factor)\n",
        "        self.scaled_col_dim = np.int(self.image_cols / self.col_scale_factor)\n",
        "        self.n_epochs = n_epochs"
      ],
      "execution_count": 0,
      "outputs": []
    },
    {
      "metadata": {
        "_uuid": "bc20cc4fdebf53b66bda3899974bd8758159d85f",
        "id": "RRASmXyjKCwn",
        "colab_type": "text"
      },
      "cell_type": "markdown",
      "source": [
        "Ok, now we will create an instance of this class and pass it to the DataGenerator, the BaseLineModel and the ImagePreprocessor."
      ]
    },
    {
      "metadata": {
        "trusted": true,
        "_uuid": "96b80b33c817ad07deac345e36c46c062255c60d",
        "id": "N3gtV59-KCwq",
        "colab_type": "code",
        "colab": {}
      },
      "cell_type": "code",
      "source": [
        "parameter = ModelParameter(train_path)"
      ],
      "execution_count": 0,
      "outputs": []
    },
    {
      "metadata": {
        "_uuid": "4497282fcdc0d68554e3878bb82bae8942eda681",
        "id": "7BZpsRsLKCwz",
        "colab_type": "text"
      },
      "cell_type": "markdown",
      "source": [
        "### Image Preprocessor\n",
        "\n",
        "Let's write a simple image preprocessor that handles for example the rescaling of the images. Perhaps we can expand its functionality during improvement of the baseline model. "
      ]
    },
    {
      "metadata": {
        "trusted": true,
        "_uuid": "2674c1331715aeab66a0194b3ad31afa7cfc3444",
        "_kg_hide-input": true,
        "id": "F2EnXYx1KCw2",
        "colab_type": "code",
        "colab": {}
      },
      "cell_type": "code",
      "source": [
        "from skimage.transform import resize\n",
        "\n",
        "class ImagePreprocessor:\n",
        "    \n",
        "    def __init__(self, modelparameter):\n",
        "        self.parameter = modelparameter\n",
        "        self.basepath = self.parameter.basepath\n",
        "        self.scaled_row_dim = self.parameter.scaled_row_dim\n",
        "        self.scaled_col_dim = self.parameter.scaled_col_dim\n",
        "        self.n_channels = self.parameter.n_channels\n",
        "    \n",
        "    def preprocess(self, image):\n",
        "        image = self.resize(image)\n",
        "        image = self.reshape(image)\n",
        "        image = self.normalize(image)\n",
        "        return image\n",
        "    \n",
        "    def resize(self, image):\n",
        "        image = resize(image, (self.scaled_row_dim, self.scaled_col_dim))\n",
        "        return image\n",
        "    \n",
        "    def reshape(self, image):\n",
        "        image = np.reshape(image, (image.shape[0], image.shape[1], self.n_channels))\n",
        "        return image\n",
        "    \n",
        "    def normalize(self, image):\n",
        "        image /= 255 \n",
        "        return image\n",
        "    \n",
        "    def load_image(self, image_id):\n",
        "        image = np.zeros(shape=(512,512,4))\n",
        "        image[:,:,0] = imread(self.basepath + image_id + \"_green\" + \".png\")\n",
        "        image[:,:,1] = imread(self.basepath + image_id + \"_blue\" + \".png\")\n",
        "        image[:,:,2] = imread(self.basepath + image_id + \"_red\" + \".png\")\n",
        "        image[:,:,3] = imread(self.basepath + image_id + \"_yellow\" + \".png\")\n",
        "        return image[:,:,0:self.parameter.n_channels]\n",
        "        "
      ],
      "execution_count": 0,
      "outputs": []
    },
    {
      "metadata": {
        "_uuid": "d93eeb59fa1f35d3e46f24832a40bee0086abb5b",
        "id": "M61fpYq8KCw7",
        "colab_type": "text"
      },
      "cell_type": "markdown",
      "source": [
        "Let's create an instance of this preprocessor and pass it to the data generator."
      ]
    },
    {
      "metadata": {
        "trusted": true,
        "_uuid": "589121752a0ca1693c7e794655047f947a476b8e",
        "id": "aUSncZsCKCw9",
        "colab_type": "code",
        "colab": {}
      },
      "cell_type": "code",
      "source": [
        "preprocessor = ImagePreprocessor(parameter)"
      ],
      "execution_count": 0,
      "outputs": []
    },
    {
      "metadata": {
        "_uuid": "c83a1888064cf71767aee2d462171227836600f5",
        "id": "Gv6zCNeAKCxF",
        "colab_type": "text"
      },
      "cell_type": "markdown",
      "source": [
        "#### Looking at a preprocessed example image"
      ]
    },
    {
      "metadata": {
        "_kg_hide-input": true,
        "trusted": true,
        "_uuid": "cc9f0ff3eecc870337c475533b4c1cffed704403",
        "id": "OvqYjrjFKCxR",
        "colab_type": "code",
        "colab": {}
      },
      "cell_type": "code",
      "source": [
        "example = images[0,0]\n",
        "preprocessed = preprocessor.preprocess(example)\n",
        "print(example.shape)\n",
        "print(preprocessed.shape)\n",
        "\n",
        "fig, ax = plt.subplots(1,2,figsize=(20,10))\n",
        "ax[0].imshow(example, cmap=\"Greens\")\n",
        "ax[1].imshow(preprocessed.reshape(parameter.scaled_row_dim,parameter.scaled_col_dim), cmap=\"Greens\")"
      ],
      "execution_count": 0,
      "outputs": []
    },
    {
      "metadata": {
        "_uuid": "615d734ed90fb1def88151c5365443d61b411536",
        "id": "t-EfrxAWKCxd",
        "colab_type": "text"
      },
      "cell_type": "markdown",
      "source": [
        "You can see that we have lost a lot of information by downscaling the image!"
      ]
    },
    {
      "metadata": {
        "_uuid": "2b3cecd1dde678563c35405a7ddde5c35314677b",
        "id": "81kAZ7gAKCxj",
        "colab_type": "text"
      },
      "cell_type": "markdown",
      "source": [
        "### Data Generator\n",
        "\n",
        "I highly build upon the [nice data generator presented by Shervine Amidi.](https://stanford.edu/~shervine/blog/keras-how-to-generate-data-on-the-fly) Thank you! :-) \n"
      ]
    },
    {
      "metadata": {
        "trusted": true,
        "_uuid": "6e77e06f77164446a8689b55fd56734f943368b1",
        "_kg_hide-input": true,
        "id": "FuDpD5tSKCxn",
        "colab_type": "code",
        "colab": {}
      },
      "cell_type": "code",
      "source": [
        "import keras\n",
        "\n",
        "class DataGenerator(keras.utils.Sequence):\n",
        "    \n",
        "    def __init__(self, list_IDs, labels, modelparameter, imagepreprocessor):\n",
        "        self.params = modelparameter\n",
        "        self.labels = labels\n",
        "        self.list_IDs = list_IDs\n",
        "        self.dim = (self.params.scaled_row_dim, self.params.scaled_col_dim)\n",
        "        self.batch_size = self.params.batch_size\n",
        "        self.n_channels = self.params.n_channels\n",
        "        self.num_classes = self.params.num_classes\n",
        "        self.shuffle = self.params.shuffle\n",
        "        self.preprocessor = imagepreprocessor\n",
        "        self.on_epoch_end()\n",
        "    \n",
        "    def on_epoch_end(self):\n",
        "        self.indexes = np.arange(len(self.list_IDs))\n",
        "        if self.shuffle == True:\n",
        "            np.random.shuffle(self.indexes)\n",
        "    \n",
        "    def get_targets_per_image(self, identifier):\n",
        "        return self.labels.loc[self.labels.Id==identifier].drop(\n",
        "                [\"Id\", \"Target\", \"number_of_targets\"], axis=1).values\n",
        "            \n",
        "    def __data_generation(self, list_IDs_temp):\n",
        "        'Generates data containing batch_size samples' # X : (n_samples, *dim, n_channels)\n",
        "        # Initialization\n",
        "        X = np.empty((self.batch_size, *self.dim, self.n_channels))\n",
        "        y = np.empty((self.batch_size, self.num_classes), dtype=int)\n",
        "        # Generate data\n",
        "        for i, identifier in enumerate(list_IDs_temp):\n",
        "            # Store sample\n",
        "            image = self.preprocessor.load_image(identifier)\n",
        "            image = self.preprocessor.preprocess(image)\n",
        "            X[i] = image\n",
        "            # Store class\n",
        "            y[i] = self.get_targets_per_image(identifier)\n",
        "        return X, y\n",
        "    \n",
        "    def __len__(self):\n",
        "        'Denotes the number of batches per epoch'\n",
        "        return int(np.floor(len(self.list_IDs) / self.batch_size))\n",
        "    \n",
        "    def __getitem__(self, index):\n",
        "        'Generate one batch of data'\n",
        "        # Generate indexes of the batch\n",
        "        indexes = self.indexes[index*self.batch_size:(index+1)*self.batch_size]\n",
        "        # Find list of IDs\n",
        "        list_IDs_temp = [self.list_IDs[k] for k in indexes]\n",
        "        # Generate data\n",
        "        X, y = self.__data_generation(list_IDs_temp)\n",
        "        return X, y"
      ],
      "execution_count": 0,
      "outputs": []
    },
    {
      "metadata": {
        "trusted": true,
        "_uuid": "7867efb076524384d57556b13283aeb45b0ea1dd",
        "id": "mZ1VKnbEKCxw",
        "colab_type": "code",
        "colab": {}
      },
      "cell_type": "code",
      "source": [
        "class PredictGenerator:\n",
        "    \n",
        "    def __init__(self, predict_Ids, imagepreprocessor, predict_path):\n",
        "        self.preprocessor = imagepreprocessor\n",
        "        self.preprocessor.basepath = predict_path\n",
        "        self.identifiers = predict_Ids\n",
        "    \n",
        "    def predict(self, model):\n",
        "        y = np.empty(shape=(len(self.identifiers), self.preprocessor.parameter.num_classes))\n",
        "        for n in range(len(self.identifiers)):\n",
        "            image = self.preprocessor.load_image(self.identifiers[n])\n",
        "            image = self.preprocessor.preprocess(image)\n",
        "            image = image.reshape((1, *image.shape))\n",
        "            y[n] = model.predict(image)\n",
        "        return y"
      ],
      "execution_count": 0,
      "outputs": []
    },
    {
      "metadata": {
        "_uuid": "48e03c679baabe6f4a57cb9da335ccb6d6f9710b",
        "id": "o7osFQQKKCx3",
        "colab_type": "text"
      },
      "cell_type": "markdown",
      "source": [
        "### CNN Baseline model using keras"
      ]
    },
    {
      "metadata": {
        "trusted": true,
        "_uuid": "76a48f7a606ef5293bfc465871c707ce9b3900a8",
        "_kg_hide-input": true,
        "id": "KL745rQkKCx4",
        "colab_type": "code",
        "colab": {}
      },
      "cell_type": "code",
      "source": [
        "from keras.models import Sequential\n",
        "from keras.layers import Dense, Dropout, Flatten\n",
        "from keras.layers import Conv2D, MaxPooling2D\n",
        "from keras.losses import binary_crossentropy\n",
        "from keras.optimizers import Adadelta\n",
        "from keras.models import load_model\n",
        "\n",
        "\n",
        "class BaseLineModel:\n",
        "    \n",
        "    def __init__(self, modelparameter):\n",
        "        self.params = modelparameter\n",
        "        self.num_classes = self.params.num_classes\n",
        "        self.img_rows = self.params.scaled_row_dim\n",
        "        self.img_cols = self.params.scaled_col_dim\n",
        "        self.n_channels = self.params.n_channels\n",
        "        self.input_shape = (self.img_rows, self.img_cols, self.n_channels)\n",
        "        self.my_metrics = ['accuracy']\n",
        "    \n",
        "    def build_model(self):\n",
        "        self.model = Sequential()\n",
        "        self.model.add(Conv2D(16, kernel_size=(3, 3), activation='relu', input_shape=self.input_shape))\n",
        "        self.model.add(Conv2D(32, (3, 3), activation='relu'))\n",
        "        self.model.add(MaxPooling2D(pool_size=(2, 2)))\n",
        "        self.model.add(Dropout(0.25))\n",
        "        self.model.add(Flatten())\n",
        "        self.model.add(Dense(64, activation='relu'))\n",
        "        self.model.add(Dropout(0.5))\n",
        "        self.model.add(Dense(self.num_classes, activation='sigmoid'))\n",
        "    \n",
        "    def compile_model(self):\n",
        "        self.model.compile(loss=keras.losses.binary_crossentropy,\n",
        "              optimizer=keras.optimizers.Adadelta(),\n",
        "              metrics=self.my_metrics)\n",
        "    \n",
        "    def set_generators(self, train_generator, validation_generator):\n",
        "        self.training_generator = train_generator\n",
        "        self.validation_generator = validation_generator\n",
        "    \n",
        "    def learn(self):\n",
        "        return self.model.fit_generator(generator=self.training_generator,\n",
        "                    validation_data=self.validation_generator,\n",
        "                    epochs=self.params.n_epochs, \n",
        "                    use_multiprocessing=True,\n",
        "                    workers=8)\n",
        "    \n",
        "    def score(self):\n",
        "        return self.model.evaluate_generator(generator=self.validation_generator,\n",
        "                                      use_multiprocessing=True, \n",
        "                                      workers=8)\n",
        "    \n",
        "    def predict(self, predict_generator):\n",
        "        y = predict_generator.predict(self.model)\n",
        "        return y\n",
        "    \n",
        "    def save(self, modeloutputpath):\n",
        "        self.model.save(modeloutputpath)\n",
        "    \n",
        "    def load(self, modelinputpath):\n",
        "        self.model = load_model(modelinputpath)"
      ],
      "execution_count": 0,
      "outputs": []
    },
    {
      "metadata": {
        "_uuid": "79ae4ddf40420cb60ed564e515dc6a8fe3fd2d82",
        "id": "E4W-FS3JKCx9",
        "colab_type": "text"
      },
      "cell_type": "markdown",
      "source": [
        "### Training the baseline on the first cv-fold"
      ]
    },
    {
      "metadata": {
        "trusted": true,
        "_uuid": "819cb636a11da079e2f2a387a8cad6c3a7bd3105",
        "id": "VoZiCKc6KCyD",
        "colab_type": "code",
        "colab": {}
      },
      "cell_type": "code",
      "source": [
        "# Datasets\n",
        "partition = partitions[0]\n",
        "labels = train_labels\n",
        "\n",
        "print(\"Number of samples in train: {}\".format(len(partition[\"train\"])))\n",
        "print(\"Number of samples in validation: {}\".format(len(partition[\"validation\"])))"
      ],
      "execution_count": 0,
      "outputs": []
    },
    {
      "metadata": {
        "trusted": true,
        "_uuid": "453d8dc45e28db3d49ed281dd698f03fe1aa1cb8",
        "id": "IWiRGvpBKCyS",
        "colab_type": "code",
        "colab": {}
      },
      "cell_type": "code",
      "source": [
        "training_generator = DataGenerator(partition['train'], labels, parameter, preprocessor)\n",
        "validation_generator = DataGenerator(partition['validation'], labels, parameter, preprocessor)\n",
        "predict_generator = PredictGenerator(partition['validation'], preprocessor, train_path)"
      ],
      "execution_count": 0,
      "outputs": []
    },
    {
      "metadata": {
        "trusted": true,
        "_uuid": "6bdc3802ae488499de2afacb32e2e93bee5dccf4",
        "id": "M1WUIW1dKCyZ",
        "colab_type": "code",
        "colab": {}
      },
      "cell_type": "code",
      "source": [
        "# Run computation and store results as csv\n",
        "if kernelsettings.fit_baseline == True:\n",
        "    model = BaseLineModel(parameter)\n",
        "    model.build_model()\n",
        "    model.compile_model()\n",
        "    model.set_generators(training_generator, validation_generator)\n",
        "    history = model.learn()\n",
        "    #model.save(\"baseline_model.h5\")\n",
        "    proba_predictions = model.predict(predict_generator)\n",
        "    baseline_proba_predictions = pd.DataFrame(proba_predictions, columns=train_labels.drop(\n",
        "        [\"Target\", \"number_of_targets\", \"Id\"], axis=1).columns)\n",
        "    baseline_proba_predictions.to_csv(\"baseline_predictions.csv\")\n",
        "# If you already have done a baseline fit once, \n",
        "# you can load predictions as csv and further fitting is not neccessary:\n",
        "else:\n",
        "    baseline_proba_predictions = pd.read_csv(\"../input/protein-atlas-eab-predictions/baseline_predictions.csv\", index_col=0)"
      ],
      "execution_count": 0,
      "outputs": []
    },
    {
      "metadata": {
        "_uuid": "98c5206497d690c27fca5fb0cc2866ab31b3f673",
        "id": "cI9TpwwEKCyf",
        "colab_type": "text"
      },
      "cell_type": "markdown",
      "source": [
        "Even though this accuracy looks nice it's an illusion! We are far away from a good model. Let's try to understand why..."
      ]
    },
    {
      "metadata": {
        "_uuid": "5e093fa4cd74f6ceda7f395c2017a39a335f2fe9",
        "id": "KbLi9VG_KCyj",
        "colab_type": "text"
      },
      "cell_type": "markdown",
      "source": [
        "## What do the results tell us?\n",
        "\n",
        "Let's have a look at predicted probabilites per target class:"
      ]
    },
    {
      "metadata": {
        "trusted": true,
        "_uuid": "8ed1e7784c82006e8aa08eb1e18a06cd4af8ecd8",
        "id": "9rnTO7vAKCyo",
        "colab_type": "code",
        "colab": {}
      },
      "cell_type": "code",
      "source": [
        "validation_labels = train_labels.loc[train_labels.Id.isin(partition[\"validation\"])]"
      ],
      "execution_count": 0,
      "outputs": []
    },
    {
      "metadata": {
        "_uuid": "94b4239cfb2f1c62b66bb685c503ba668fb4a3e2",
        "id": "kbN8Du5cKCyx",
        "colab_type": "text"
      },
      "cell_type": "markdown",
      "source": [
        "With our new strategy to perform predictions we should obtain the same shape[0] of the true targets and the predicted ones:"
      ]
    },
    {
      "metadata": {
        "trusted": true,
        "_uuid": "22fb79c1ff6d84f7403ad26418b66669e73fab6a",
        "id": "E8t-V6eEKCyz",
        "colab_type": "code",
        "colab": {}
      },
      "cell_type": "code",
      "source": [
        "print(validation_labels.shape)\n",
        "print(baseline_proba_predictions.shape)"
      ],
      "execution_count": 0,
      "outputs": []
    },
    {
      "metadata": {
        "_uuid": "175383cd82e42c699b163e0f533a58655b4c3b85",
        "id": "G5ByGceVKCy_",
        "colab_type": "text"
      },
      "cell_type": "markdown",
      "source": [
        "Hmmmm this still looks not good :-( Have to search even further. "
      ]
    },
    {
      "metadata": {
        "trusted": true,
        "_uuid": "127f03493b264398faaa55e2d5a81251619059ea",
        "id": "4Ufk3chGKCzD",
        "colab_type": "code",
        "colab": {}
      },
      "cell_type": "code",
      "source": [
        "baseline_proba_predictions.tail()"
      ],
      "execution_count": 0,
      "outputs": []
    },
    {
      "metadata": {
        "trusted": true,
        "_uuid": "1bdefea146c0c50bc9d78fb2ddf41c2f9e4b1f14",
        "id": "qOtpDmTXKCzP",
        "colab_type": "code",
        "colab": {}
      },
      "cell_type": "code",
      "source": [
        "proba_predictions = baseline_proba_predictions.values"
      ],
      "execution_count": 0,
      "outputs": []
    },
    {
      "metadata": {
        "_kg_hide-input": true,
        "trusted": true,
        "_uuid": "851060fb988a7942a3325349e9999f57f2a6225f",
        "id": "6DdmR95rKCzU",
        "colab_type": "code",
        "colab": {}
      },
      "cell_type": "code",
      "source": [
        "hot_values = validation_labels.drop([\"Id\", \"Target\", \"number_of_targets\"], axis=1).values.flatten()\n",
        "one_hot = (hot_values.sum()) / hot_values.shape[0] * 100\n",
        "zero_hot = (hot_values.shape[0] - hot_values.sum()) / hot_values.shape[0] * 100\n",
        "\n",
        "fig, ax = plt.subplots(1,2, figsize=(20,5))\n",
        "sns.distplot(proba_predictions.flatten() * 100, color=\"DodgerBlue\", ax=ax[0])\n",
        "ax[0].set_xlabel(\"Probability in %\")\n",
        "ax[0].set_ylabel(\"Density\")\n",
        "ax[0].set_title(\"Predicted probabilities\")\n",
        "sns.barplot(x=[\"label = 0\", \"label = 1\"], y=[zero_hot, one_hot], ax=ax[1])\n",
        "ax[1].set_ylim([0,100])\n",
        "ax[1].set_title(\"True target label count\")\n",
        "ax[1].set_ylabel(\"Percentage\");"
      ],
      "execution_count": 0,
      "outputs": []
    },
    {
      "metadata": {
        "_uuid": "4ee24c3b3799e06b86d54c5a24323b6b5902d0ed",
        "id": "EeC28--MKCze",
        "colab_type": "text"
      },
      "cell_type": "markdown",
      "source": [
        "### Take-Away\n",
        "\n",
        "* We can see that our model was always very uncertain to predict the presence of a target protein. All probabilities are close to zero and there are only a few with targets where our model predicted a protein structure with higher than 10 %.\n",
        "* If we take a look at the true target label count we can see that most of our targets are filled with zero. This corresponds to an absence of corresponding target proteins. This makes sense: For each image we have a high probability to contain either 1 or 2 target protein structures. Their label values are one whereas all others are zero. \n",
        "* Consequently our high accuracy belongs to the high correct prediction of the absence of target proteins. In contrast we weren't able to predict the presence of a target protein which is the most relevant part! \n",
        "* Now a bell should ring :-) Have you ever heard about imbalanced classes and model confusion? "
      ]
    },
    {
      "metadata": {
        "_uuid": "6475127409a86d7c4da3544478456d0d17c148eb",
        "id": "C10rW_zJKCzg",
        "colab_type": "text"
      },
      "cell_type": "markdown",
      "source": [
        "### To which targets do the high and small predicted probabilities belong to?"
      ]
    },
    {
      "metadata": {
        "_kg_hide-input": true,
        "trusted": true,
        "_uuid": "7174d05d4e824c290df5149e6990827a076755a7",
        "id": "n4cfRM8aKCzh",
        "colab_type": "code",
        "colab": {}
      },
      "cell_type": "code",
      "source": [
        "mean_predictions = np.mean(proba_predictions, axis=0)\n",
        "std_predictions = np.std(proba_predictions, axis=0)\n",
        "mean_targets = validation_labels.drop([\"Id\", \"Target\", \"number_of_targets\"], axis=1).mean()\n",
        "\n",
        "labels = validation_labels.drop([\"Id\", \"Target\", \"number_of_targets\"], axis=1).columns.values\n",
        "\n",
        "fig, ax = plt.subplots(1,2,figsize=(20,5))\n",
        "sns.barplot(x=labels,\n",
        "            y=mean_predictions,\n",
        "            ax=ax[0])\n",
        "ax[0].set_xticklabels(labels=labels,\n",
        "                      rotation=90)\n",
        "ax[0].set_ylabel(\"Mean predicted probability\")\n",
        "ax[0].set_title(\"Mean predicted probability per class over all samples\")\n",
        "sns.barplot(x=labels,\n",
        "           y=std_predictions,\n",
        "           ax=ax[1])\n",
        "ax[1].set_xticklabels(labels=labels,\n",
        "                      rotation=90)\n",
        "ax[1].set_ylabel(\"Standard deviation\")\n",
        "ax[1].set_title(\"Standard deviation of predicted probability per class over all samples\")"
      ],
      "execution_count": 0,
      "outputs": []
    },
    {
      "metadata": {
        "trusted": true,
        "_uuid": "b058c1f00898dad04957433672e726822426e478",
        "id": "QvazOEbJKCzo",
        "colab_type": "code",
        "colab": {}
      },
      "cell_type": "code",
      "source": [
        "fig, ax = plt.subplots(1,1,figsize=(20,5))\n",
        "sns.barplot(x=labels, y=mean_targets.values, ax=ax)\n",
        "ax.set_xticklabels(labels=labels,\n",
        "                      rotation=90)\n",
        "ax.set_ylabel(\"Percentage of hot (1)\")\n",
        "ax.set_title(\"Percentage of hot counts (ones) per target class\")"
      ],
      "execution_count": 0,
      "outputs": []
    },
    {
      "metadata": {
        "_uuid": "e3717835b45904306c0b00f66949ef8f8f7f86a2",
        "id": "36FUBbMPKCzs",
        "colab_type": "text"
      },
      "cell_type": "markdown",
      "source": [
        "### Take-Away\n",
        "\n",
        "* Our baseline model seemed to learn something even if this something does not look very nice. \n",
        "* Taking a look at the standard deviation we can see that all samples have nearly the same predicted values. There is no deviation, no difference between them. This is of course very bad! :-(\n",
        "\n",
        "Let's go one step deeper and take a look at the Cytosol (choose another feature if you like ;-)). Here we can see a higher standard deviation than for all other samples and perhaps its corresponding distribution starts to diverge, trying to get bimodal. This would be great at it indicates that the model starts solving the problem of binary classification for this target:"
      ]
    },
    {
      "metadata": {
        "trusted": true,
        "_uuid": "7a42ae9d8ae2881ab558c3b140588e961ac17545",
        "id": "3Sd85Sr7KCzu",
        "colab_type": "code",
        "colab": {}
      },
      "cell_type": "code",
      "source": [
        "feature = \"Cytosol\""
      ],
      "execution_count": 0,
      "outputs": []
    },
    {
      "metadata": {
        "trusted": true,
        "_uuid": "d96f5b4f4b62fb463bbe2266998d09e759289c37",
        "id": "RgMRPorxKCzy",
        "colab_type": "code",
        "colab": {}
      },
      "cell_type": "code",
      "source": [
        "plt.figure(figsize=(20,5))\n",
        "sns.distplot(baseline_proba_predictions[feature].values[0:-10], color=\"Purple\")\n",
        "plt.xlabel(\"Predicted probabilites of {}\".format(feature))\n",
        "plt.ylabel(\"Density\")\n",
        "plt.xlim([0,1])"
      ],
      "execution_count": 0,
      "outputs": []
    },
    {
      "metadata": {
        "_uuid": "ee00e75c559f74b7f1b50c8f55bf1e7c22107591",
        "id": "4bOcqZwhKCz4",
        "colab_type": "text"
      },
      "cell_type": "markdown",
      "source": [
        "No, it does not seem that our model starts to separate well. The mode is close to the fraction of one-hot-counts over all samples. At least the flat tail gives hope that learning could be in progress.  But even though our next goal should be to find out what to tune in such a way that our model really starts learning! "
      ]
    },
    {
      "metadata": {
        "_uuid": "2ae9aa27baa88d6a0eaf913e9215339881ad6444",
        "id": "jCrCwP7YKCz6",
        "colab_type": "text"
      },
      "cell_type": "markdown",
      "source": [
        "## One-Step-Improvement\n",
        "\n",
        "\n",
        "Ok, again let's go one step back and choose the most common target proteins that are present in our data: nucleoplasm, cytosol and plasma membrane. If we are not able to predict them we can go home and stay in bed ;-) ."
      ]
    },
    {
      "metadata": {
        "trusted": true,
        "_uuid": "bd5d3dc8105a731c940e1996241fa1b0e32fcec1",
        "id": "9HH77fRVKCz8",
        "colab_type": "code",
        "colab": {}
      },
      "cell_type": "code",
      "source": [
        "wishlist = [\"Nucleoplasm\", \"Cytosol\", \"Plasma membrane\"]"
      ],
      "execution_count": 0,
      "outputs": []
    },
    {
      "metadata": {
        "_uuid": "e9c23453f175fc3768f4b94b659c96f8fb72c547",
        "id": "Yi79lmI5KC0F",
        "colab_type": "text"
      },
      "cell_type": "markdown",
      "source": [
        "### The target wish list\n",
        "\n",
        "To introduce a target wishlist that we can change whenever we want we need to improve the data generator. For this purpose we're going to extend the class we have already written. Taking a closer look at the base generator you can see that there is just one line code in def data_generation(self, list_IDs_temp) we have to change, namely the part with y[i] = ... inside the for loop over temp list ids (image identifiers of the batch). To make things easier, I added a small method to the DataGenerator we already had:\n",
        "\n",
        "```\n",
        "def get_targets_per_image(self, identifier):\n",
        "        return self.labels.loc[self.labels.Id==identifier].drop(\n",
        "                [\"Id\", \"Target\", \"number_of_targets\"], axis=1).values\n",
        "```\n",
        "\n",
        "This method just avoids the direct pass to y[i], the targets per image in a batch. Now, we can overwrite this method in our ImprovedDataGenerator without loosing functionality:"
      ]
    },
    {
      "metadata": {
        "trusted": true,
        "_uuid": "24b1f61b38bc5ec85150f0ffbeb1000d2b4c4ee2",
        "id": "oFQucqJcKC0M",
        "colab_type": "code",
        "colab": {}
      },
      "cell_type": "code",
      "source": [
        "class ImprovedDataGenerator(DataGenerator):\n",
        "    \n",
        "    # in contrast to the base DataGenerator we add a target wishlist to init\n",
        "    def __init__(self, list_IDs, labels, modelparameter, imagepreprocessor, target_wishlist):\n",
        "        super().__init__(list_IDs, labels, modelparameter, imagepreprocessor)\n",
        "        self.target_wishlist = target_wishlist\n",
        "    \n",
        "    def get_targets_per_image(self, identifier):\n",
        "        return self.labels.loc[self.labels.Id==identifier][self.target_wishlist].values"
      ],
      "execution_count": 0,
      "outputs": []
    },
    {
      "metadata": {
        "_uuid": "b3577681a7dc0efaffc9773706b2ecad4a88499b",
        "id": "TeELZDKkKC0S",
        "colab_type": "text"
      },
      "cell_type": "markdown",
      "source": [
        "### Plug and Play\n",
        "\n",
        ":-) \n",
        "\n",
        "This part makes fun! Actually I don't know if our model learns something meaningful. But we can try to find out by improving our model adding **new features** and playing with **different parameter settings**. The latter I like to do in a **plug-and-play style**: Setting the flag *improve=True* adds a change to our model whereas *improve=False* uses the old concept we already used in the baseline. \n",
        "\n"
      ]
    },
    {
      "metadata": {
        "_uuid": "66ad84e730aea51fed90d03a40e6615726ea88fb",
        "id": "LmJq6e3sKC0U",
        "colab_type": "text"
      },
      "cell_type": "markdown",
      "source": [
        "### Add scoring metrics\n",
        "\n",
        "We have already seen that the accuracy score is an illusion and does not help to figure out how good our predictions are. Let's take a closer look to the competition scoring and alternatives:\n",
        "\n",
        "* **F1 macro score**: Check out this [nice implementation of Guglielmo Camporese](https://www.kaggle.com/guglielmocamporese/macro-f1-score-keras). Thank you very much! We can easily add it to our model.\n",
        "* But even with that score we should be careful! We have 28 different classes that are **very different in their frequency of being present**.  In addition we have to deal with **highly imbalanced classes per single target**. Even for the most common target nucleoplasm there are only 40 % of samples that show it and 60 % not. This imbalance becomes even more dramatic for seldom targets like rods and rings. We should **attach more importance to true positives**. \n",
        "* Well, there is **one problem with the competition score** that we can use to measure the performance of our model: **The f1 mean**. The mean is not robust towards outliers and consequently not very informative to understand the distribution of f1 scores for each target class. Perhaps we will make nice predictions for Cytosol but bad ones for Nucleoplasmn... who knows? Consequently it could be nice to introduce some further statistical quantities like **min** as well as **max** and the **standard deviation** . This way we can see the worst and gain some insights how the scores are spread over the classes. "
      ]
    },
    {
      "metadata": {
        "trusted": true,
        "_uuid": "b1d64d6e4dbc439fb135cd77d0d0ef2d65706c96",
        "_kg_hide-input": true,
        "id": "MPklnVHwKC0W",
        "colab_type": "code",
        "colab": {}
      },
      "cell_type": "code",
      "source": [
        "import keras.backend as K\n",
        "\n",
        "def base_f1(y_true, y_pred):\n",
        "    y_pred = K.round(y_pred)\n",
        "    tp = K.sum(K.cast(y_true*y_pred, 'float'), axis=0)\n",
        "    tn = K.sum(K.cast((1-y_true)*(1-y_pred), 'float'), axis=0)\n",
        "    fp = K.sum(K.cast((1-y_true)*y_pred, 'float'), axis=0)\n",
        "    fn = K.sum(K.cast(y_true*(1-y_pred), 'float'), axis=0)\n",
        "\n",
        "    p = tp / (tp + fp + K.epsilon())\n",
        "    r = tp / (tp + fn + K.epsilon())\n",
        "\n",
        "    f1 = 2*p*r / (p+r+K.epsilon())\n",
        "    f1 = tf.where(tf.is_nan(f1), tf.zeros_like(f1), f1)\n",
        "    return f1\n",
        "\n",
        "def f1_min(y_true, y_pred):\n",
        "    f1 = base_f1(y_true, y_pred)\n",
        "    return K.min(f1)\n",
        "\n",
        "def f1_max(y_true, y_pred):\n",
        "    f1 = base_f1(y_true, y_pred)\n",
        "    return K.max(f1)\n",
        "\n",
        "def f1_mean(y_true, y_pred):\n",
        "    f1 = base_f1(y_true, y_pred)\n",
        "    return K.mean(f1)\n",
        "\n",
        "def f1_std(y_true, y_pred):\n",
        "    f1 = base_f1(y_true, y_pred)\n",
        "    return K.std(f1)"
      ],
      "execution_count": 0,
      "outputs": []
    },
    {
      "metadata": {
        "_uuid": "43cc22388e3799c8387fe35d35f865928924a1c4",
        "id": "q3-EI_B4KC0c",
        "colab_type": "text"
      },
      "cell_type": "markdown",
      "source": [
        "### Track losses and scores\n",
        "\n",
        "Ok, after adding the metrics we like to observe we should try to obtain more insights into the learning process of our model. One question on my mind draws circles: **What happened to the loss after each batch during one epoch?** Does it converge? Has our model started to learn or does nothing happen? Currently we obtain a history after calling fit_generator, but this history only contains the loss of train and validation data after one epoch. It does not contain losses that are obtained after computing each batch. But wait a minute... **How does our model update gradients? After each batch? After one epoch?** \n",
        "\n",
        "If we take a look at simple feedforward networks that are close related to CNNs add gradient descent, we can see that learning means to compute the derivatives of the loss with respect to the weights over all samples:\n",
        "\n",
        "$$ w_{i,j}^{new} = w_{i,j}^{old} - \\eta \\cdot \\partial_{w_{i,j}} E$$\n",
        "\n",
        "With a set of independent observation samples, we can obtain the gradients this way:\n",
        "\n",
        "$$ \\partial_{w_{i,j}} E = \\sum_{n=1}^{N} \\partial_{w_{i,j}} E_{n}$$\n"
      ]
    },
    {
      "metadata": {
        "_uuid": "6f0edac71f3ad51f238324ff2c573a6b6af792ad",
        "id": "1xSrhCVjKC0e",
        "colab_type": "text"
      },
      "cell_type": "markdown",
      "source": [
        "We are computing the change of the loss with respect to a change in the weights for each sample one after another. Consequently in original gradient descent we need to pass the whole dataset once for just one single update step of gradient descent. As our initial weights are not sufficent to solve the classification task we need many such update steps. **But what if the dataset it too large to wait a long time just for one of these steps?**\n",
        "\n",
        "Perhaps it would be sufficient and already good to use only some $M < N$ of the $N$ samples to compute the gradients $\\partial_{w_{i,j}} E$:\n",
        "\n",
        "$$ \\partial_{w_{i,j}} E = \\sum_{m=1}^{M} \\partial_{w_{i,j}} E_{m} $$\n",
        "\n",
        "This way **we could use only a batch of samples, compute the gradients and perform the update of weights**. After that we continue by computing the gradients with the next batch. This could be done in sequence of samples or random with replacement. This means that we already start learning without passing the whole dataset. In my case I chose a batch_size of 200. With a total number of samples of around 20000 in my training set this means that I have already done 200 weight updates. **After doing so I have used each sample once and this means the whole dataset was passed through gradient descent**. As far as I know this means, **one epoch**. In addition we can now say that we want to shuffle the samples before doing weight updates after each batch again in the next epoch. This way our model sees a different set, computes some other gradients and hence the loss minimziation could be more robust.   "
      ]
    },
    {
      "metadata": {
        "_uuid": "d404bced8febfc3a8b5e3900a539e0e630c74d65",
        "id": "PpLeL1gRKC0f",
        "colab_type": "text"
      },
      "cell_type": "markdown",
      "source": [
        "Improve! :-) We can already see that we might need **more than 1 epoch to learn the pattern in the data**. Computing the gradient with batches is a stochastic process: Depending on the batch samples the gradients may sometimes lead to some good update directions in weight space that points to some minimum of loss.... and sometimes they could lead to the opposite. Well this really depends on the samples within one batch. This becomes more robust with **more samples per batch.** But then we will **need even more epochs** as we make less weight updata aka learning steps! But even if this stochastic gradient descent looks wiggly it has an advantage too: It can escape from local minima of the loss function. That's nice. \n",
        "\n",
        "Before we improve the model using more epochs and smaller batches, let's **implement a new feature: a loss callback**. This way we can see if the loss decreases during weight update steps! And we can see if we need more epochs or if the loss has already converged and settled down. "
      ]
    },
    {
      "metadata": {
        "_kg_hide-input": true,
        "trusted": true,
        "_uuid": "0a007ca6bde3b124e400c0b1b89e6075b3d8c5b0",
        "id": "aNoobVTDKC0h",
        "colab_type": "code",
        "colab": {}
      },
      "cell_type": "code",
      "source": [
        "class TrackHistory(keras.callbacks.Callback):\n",
        "    \n",
        "    def on_train_begin(self, logs={}):\n",
        "        self.losses = []\n",
        "\n",
        "    def on_batch_end(self, batch, logs={}):\n",
        "        self.losses.append(logs.get('loss'))"
      ],
      "execution_count": 0,
      "outputs": []
    },
    {
      "metadata": {
        "trusted": true,
        "_uuid": "0b763fe315bbc0960599bb4149bce9f600ef45f3",
        "_kg_hide-input": true,
        "id": "Ew2BWUeBKC0l",
        "colab_type": "code",
        "colab": {}
      },
      "cell_type": "code",
      "source": [
        "class ImprovedModel(BaseLineModel):\n",
        "    \n",
        "    def __init__(self, modelparameter,\n",
        "                 use_dropout,\n",
        "                 my_metrics=[f1_mean, f1_std, f1_min, f1_max]):\n",
        "        \n",
        "        super().__init__(modelparameter)\n",
        "        self.my_metrics = my_metrics\n",
        "        self.use_dropout = use_dropout\n",
        "        \n",
        "    def learn(self):\n",
        "        self.history = TrackHistory()\n",
        "        return self.model.fit_generator(generator=self.training_generator,\n",
        "                    validation_data=self.validation_generator,\n",
        "                    epochs=self.params.n_epochs, \n",
        "                    use_multiprocessing=True,\n",
        "                    workers=8,\n",
        "                    callbacks = [self.history])\n",
        "    \n",
        "    def build_model(self):\n",
        "        self.model = Sequential()\n",
        "        self.model.add(Conv2D(16, kernel_size=(3, 3), activation='relu', input_shape=self.input_shape))\n",
        "        self.model.add(Conv2D(32, (3, 3), activation='relu'))\n",
        "        self.model.add(MaxPooling2D(pool_size=(2, 2)))\n",
        "        if self.use_dropout:\n",
        "            self.model.add(Dropout(0.25))\n",
        "        self.model.add(Flatten())\n",
        "        self.model.add(Dense(64, activation='relu'))\n",
        "        if self.use_dropout:\n",
        "            self.model.add(Dropout(0.5))\n",
        "        self.model.add(Dense(self.num_classes, activation='sigmoid'))"
      ],
      "execution_count": 0,
      "outputs": []
    },
    {
      "metadata": {
        "_uuid": "c1ef7652070b897e274ee3adbb0a8e1afae2bc6a",
        "id": "ZoG5jhRhKC0r",
        "colab_type": "text"
      },
      "cell_type": "markdown",
      "source": [
        "Ok, now let's increase the number of epochs and decrease the batch_size. This way we use more weight update steps and hopefully makes our model learn more than before: "
      ]
    },
    {
      "metadata": {
        "trusted": true,
        "_uuid": "42c9c106d61b9abebfa072a2ff3b731788ac81a1",
        "id": "qCH_sRjpKC0t",
        "colab_type": "code",
        "colab": {}
      },
      "cell_type": "code",
      "source": [
        "parameter = ModelParameter(train_path, num_classes=len(wishlist), n_epochs=5, batch_size=64)\n",
        "preprocessor = ImagePreprocessor(parameter)\n",
        "labels = train_labels"
      ],
      "execution_count": 0,
      "outputs": []
    },
    {
      "metadata": {
        "trusted": true,
        "_uuid": "50c9977084282e37842555172e3484aa769f95fc",
        "id": "bo5mUJTAKC0x",
        "colab_type": "code",
        "colab": {}
      },
      "cell_type": "code",
      "source": [
        "training_generator = ImprovedDataGenerator(partition['train'], labels,\n",
        "                                           parameter, preprocessor, wishlist)\n",
        "validation_generator = ImprovedDataGenerator(partition['validation'], labels,\n",
        "                                             parameter, preprocessor, wishlist)\n",
        "predict_generator = PredictGenerator(partition['validation'], preprocessor, train_path)"
      ],
      "execution_count": 0,
      "outputs": []
    },
    {
      "metadata": {
        "trusted": true,
        "_uuid": "85e7b6b70322d7d0b7739ebe75455e0275379b32",
        "_kg_hide-input": true,
        "id": "oHjXn1gpKC02",
        "colab_type": "code",
        "colab": {}
      },
      "cell_type": "code",
      "source": [
        "# Run computation and store results as csv\n",
        "if kernelsettings.fit_improved_baseline == True:\n",
        "    model = ImprovedModel(parameter, use_dropout=use_dropout)\n",
        "    model.build_model()\n",
        "    model.compile_model()\n",
        "    model.set_generators(training_generator, validation_generator)\n",
        "    epoch_history = model.learn()\n",
        "    proba_predictions = model.predict(predict_generator)\n",
        "    #model.save(\"improved_model.h5\")\n",
        "    improved_proba_predictions = pd.DataFrame(proba_predictions, columns=wishlist)\n",
        "    improved_proba_predictions.to_csv(\"improved_predictions.csv\")\n",
        "# If you already have done a baseline fit once, \n",
        "# you can load predictions as csv and further fitting is not neccessary:\n",
        "else:\n",
        "    improved_proba_predictions = pd.read_csv(\"../input/protein-atlas-eab-predictions/improved_predictions.csv\", index_col=0)"
      ],
      "execution_count": 0,
      "outputs": []
    },
    {
      "metadata": {
        "trusted": true,
        "_uuid": "09ecd6d62d6a725d39bf9f52bbc4ef882cfbd52a",
        "id": "RitaRFwzKC06",
        "colab_type": "code",
        "colab": {}
      },
      "cell_type": "code",
      "source": [
        "if kernelsettings.fit_improved_baseline == True:\n",
        "    print(epoch_history.history.keys())\n",
        "    fig, ax = plt.subplots(2,1,figsize=(20,10))\n",
        "    ax[0].plot(model.history.losses, color=\"Red\")\n",
        "    ax[0].set_xlabel(\"Update step after one batch\")\n",
        "    ax[0].set_ylabel(\"Train loss\")\n",
        "    ax[0].set_title(\"Loss evolution batch per batch\")\n",
        "    ax[1].plot(epoch_history.history[\"val_loss\"], color=\"Green\")\n",
        "    ax[1].plot(epoch_history.history[\"loss\"])\n",
        "    ax[1].set_title(\"Loss evolution per epoch\")\n",
        "    ax[1].set_xlabel(\"Update step after one epoch\")\n",
        "    ax[1].set_ylabel(\"Loss\")\n",
        "    fig.savefig(\"losses_improved_model\", format=\"eps\")"
      ],
      "execution_count": 0,
      "outputs": []
    },
    {
      "metadata": {
        "_uuid": "a9a9f5d6b095c92334d2f878a0dd16fc79157a3c",
        "id": "TuXysK3MKC0_",
        "colab_type": "text"
      },
      "cell_type": "markdown",
      "source": [
        "### What does the loss tell us?\n",
        "![Losses](https://www.kaggleusercontent.com/kf/7185016/eyJhbGciOiJkaXIiLCJlbmMiOiJBMTI4Q0JDLUhTMjU2In0..3D5GOiotTaFacOc_0ztMkQ.xELnVFi-FwGr8RjlVpZt65KXnyCK5GtztyHgErbUR1iSjxSROPp2jai_q_MHvZMSZ56KGVPQPtCx5j4AegtwsDtZRa8QAT3urcmvDW80qKcuApN7DJWnV7xJxGvfVIInJS_ml5Rma43kvo5NWA3OgXE9qfTJ_zG4C1p95FMUJN8.1bNcwgsup-EREVBNPymfFA/__results___files/__results___118_1.png)\n",
        "\n",
        "The loss is very noisy! While decreasing the batch size we increased the number of learning steps. Hence our model learns faster. But... with smaller batch size there **are fewer samples to learn from, to compute gradients from**! The gradients we obtain may be very specific to the images and class labels that are covered by the batch of the current learning step. **There was a tradeoff we made**. We gained more learning speed but payed with a reduced gradient quality. Before increasing the batch size again and waiting too long for predictions we might improve by choosing another way:\n",
        "\n",
        "1. Weight regularization\n",
        "2. Gradient clipping\n",
        "\n",
        "These two will be the next improvement steps. Nonetheless, one question remains: Has our model started learning? Can we see a separating force that tries to split zero and one predictions?"
      ]
    },
    {
      "metadata": {
        "_uuid": "a4b4695cf526a3cd4209e75e665eb71e2eacdb87",
        "id": "zZeHTsPxKC1B",
        "colab_type": "text"
      },
      "cell_type": "markdown",
      "source": [
        "### Does our model try to classify?\n",
        "\n",
        "If this is the case and our model starts learning we should see more bimodal distributions of the predicted probability per target label:"
      ]
    },
    {
      "metadata": {
        "trusted": true,
        "_uuid": "47c0b8d3e90ea26ceed1298255db8688e2aab942",
        "_kg_hide-input": true,
        "id": "ITmQcXfLKC1D",
        "colab_type": "code",
        "colab": {}
      },
      "cell_type": "code",
      "source": [
        "fig, ax = plt.subplots(3,1,figsize=(25,15))\n",
        "sns.distplot(improved_proba_predictions.values[:,0], color=\"Orange\", ax=ax[0])\n",
        "ax[0].set_xlabel(\"Predicted probabilites of {}\".format(improved_proba_predictions.columns.values[0]))\n",
        "ax[0].set_xlim([0,1])\n",
        "sns.distplot(improved_proba_predictions.values[:,1], color=\"Purple\", ax=ax[1])\n",
        "ax[1].set_xlabel(\"Predicted probabilites of {}\".format(improved_proba_predictions.columns.values[1]))\n",
        "ax[1].set_xlim([0,1])\n",
        "sns.distplot(improved_proba_predictions.values[:,2], color=\"Limegreen\", ax=ax[2])\n",
        "ax[2].set_xlabel(\"Predicted probabilites of {}\".format(improved_proba_predictions.columns.values[2]))\n",
        "ax[2].set_xlim([0,1])"
      ],
      "execution_count": 0,
      "outputs": []
    },
    {
      "metadata": {
        "trusted": true,
        "_uuid": "504a4336ccac32dee731574f11c705e93292ea75",
        "id": "DvyAvqS4KC1R",
        "colab_type": "text"
      },
      "cell_type": "markdown",
      "source": [
        "Jeahy! This looks far better than the distributions we obtained with the baseline model! :-) **Thus increasing epochs while decreasing the batch size helped our model as we made more learning steps.** But... as we have seen by the noise of our losses as well we make large jumps in weight space with each update step. That's not nice! Sometimes these jumps could even lead to exploding losses as well. Then the jump was so big that we escaped from nice regions that lead to a local minimum of loss."
      ]
    },
    {
      "metadata": {
        "_uuid": "39049822930c3d8219f1552fdeefe17ab98bbe90",
        "id": "ugTYGDSZKC1U",
        "colab_type": "text"
      },
      "cell_type": "markdown",
      "source": [
        "## How can we tackle gradient jiggles?\n",
        "\n",
        "Let's try to dive deeper into the problem. We compute the gradients with respect to the weights after processing each batch this way:\n",
        "\n",
        "$$ \\partial_{w_{i,j}} E = \\sum_{m=1}^{M} \\partial_{w_{i,j}} E_{m} $$"
      ]
    },
    {
      "metadata": {
        "_uuid": "4fb02efae72d20df876cc9bb7ac45082d097f59b",
        "id": "XqsHEHETKC1W",
        "colab_type": "text"
      },
      "cell_type": "markdown",
      "source": [
        "Looking at the sum we can see one disadvantage... it's mainly driven by high contributions. **An image in the batch that causes very high positive or negative gradients for the weight $w_{i,j}$ have more impact on the overall gradient than images with low absolute values**. This can be bad especially in the case of outlier images that are not representative to explain the pattern in the data. Consequently our model may try to learn from exotics. In addition we have to be very **careful with small batches as its target distribution might not reflect the overall pattern**. Imagine we would try to distinguish dogs from cats. With a batch size of 10 we are likely to fill up these places with imbalanced targets. For example it could be occupied with cats only. This would yield gradients that try to improve the detection of cats thereby changing the weights we might need to identify dogs. Hence beside image outliers the target distribution itself influences the learning as well. This can cause jiggles as well. One step we try to improve nucleoplasmn and the next perhaps cytosol but with a downgrade of the nucleoplasmn predictions and the next steps it could be the other way round. \n",
        "\n",
        "How to solve this jiggle-wiggle problem?\n",
        "\n",
        "Well, first of all we might choose a higher batch_size again :-) Decreasing the batch size we made a tradeoff: We increased the learning speed but increased the risk of low quality gradients. Hence before playing with further strategies, we should make a step backwards again. With a batch_size of 128 and number of epochs 10, we obtain these losses:"
      ]
    },
    {
      "metadata": {
        "_uuid": "8162b0af9e6e4f75aad399868fb452ca51944082",
        "id": "YPi5fxyeKC1X",
        "colab_type": "text"
      },
      "cell_type": "markdown",
      "source": [
        "### Dropout Layer\n",
        "\n",
        "I often read that dropout helps to avoid overfitting but for me it seems that there is one more useful advantage: Imagine the cat-problem above - Given a batch full of cats we only compute gradients for making the predictions of cats better. And this can be done to the detriment of the dogs as both classes share weights. Hence changing the weights with batches of imbalanced classes can lead to jiggles. \n",
        "\n",
        "Now let's consider a dropout-layer: It randomly selects a given percentage of input neurons and drops them during the current training step. Taking a look at [this paper](http://www.jmlr.org/papers/volume15/srivastava14a/srivastava14a.pdf) (linked at keras documentation) you can see that the forward and backward propagation is done only with this reduced, thinned kind of network. In our case this means that each learning step some weights will be untouched and not used to compute gradients. This is great as this would mean that some weight that could be good for predicting dogs will not change after we process a batch with cats only. ;-)\n",
        "\n",
        "Consequently if you have a **problem with overfitting** (learning too much out of your training data and loosing generalization performance) **or you have very small, imbalanced batches you should consider dropout** as a strategy. But before turning happy and starting to use dropout frequently, we should think about its downside: Dropping neruons during training and learning with a thinned kind of networks means that **we freeze learning each step a bit**. And the randomness of frosty the dropout snowman can turn to a problem difficult to graps: Which neurons should be dropped, are there some for which dropping is good and some for which it is bad? After which layer in our network does it make sense to use it?Perhaps it would have been better to use some neurons that were dropped a random dropout session during one batch learning step... we don't know. Perhaps we have prevented the success of a learning step given one batch and improved learning given another batch. The information flow through the network is somehow a blackbox for us and this randomness of thinned network learning makes it more difficult to understand what's going on. \n",
        "\n",
        "You can see that in my baseline model I'm already using dropout. This choice was somehow arbitrarily as I used an example network that can be found to classify mnist digits as a starting point. Hence let's improve again and **turn dropout to a plug-and-play feature**:\n",
        "\n",
        "```\n",
        "class ImprovedModel(BaseLineModel):\n",
        "    \n",
        "    def __init__(self, modelparameter,\n",
        "                 my_metrics=[f1_mean, f1_std, f1_min, f1_max],\n",
        "                 use_dropout=True):\n",
        "        \n",
        "        super().__init__(modelparameter)\n",
        "        self.my_metrics = my_metrics\n",
        "        self.use_dropout = use_dropout\n",
        "\n",
        "    def build_model(self):\n",
        "        self.model = Sequential()\n",
        "        self.model.add(Conv2D(16, kernel_size=(3, 3), activation='relu', input_shape=self.input_shape))\n",
        "        self.model.add(Conv2D(32, (3, 3), activation='relu'))\n",
        "        self.model.add(MaxPooling2D(pool_size=(2, 2)))\n",
        "        if self.use_dropout:\n",
        "            self.model.add(Dropout(0.25))\n",
        "        self.model.add(Flatten())\n",
        "        self.model.add(Dense(64, activation='relu'))\n",
        "        if self.use_dropout:\n",
        "        self.model.add(Dropout(0.5))\n",
        "        self.model.add(Dense(self.num_classes, activation='sigmoid'))\n",
        "```"
      ]
    },
    {
      "metadata": {
        "_uuid": "a0fb6a83c1a1cc6730f9b852ae656cda111d09d7",
        "id": "sxhPmdIHKC1b",
        "colab_type": "text"
      },
      "cell_type": "markdown",
      "source": [
        "Our last losses were obtained by using dropout with high percentage (25 % and 50 %) of dropped neurons. **What will happen if we do not use our dropout layers?**\n",
        "\n",
        "![LossWithoutDropout](https://www.kaggleusercontent.com/kf/7212722/eyJhbGciOiJkaXIiLCJlbmMiOiJBMTI4Q0JDLUhTMjU2In0..ZSQ_3svPXTPSUJWGcnFFjQ.IfPN45Kb77RLHEkt96pfewTm-O_B93fu-vw-weY_q8_pXlM8HdkyiFr1bhbJ9BmzzSckS4KvDKa2HNRb4aCJwa9btO4vwA4lUToAsCpRqZeHE5w6u4K1-AG_K6FWdDACoYvy7tP52dJku4zJsEySvTuoUt1qcb4xAsDoIlUMedg.z5L-MIPi65oUJmTJIRqXig/__results___files/__results___120_1.png)"
      ]
    },
    {
      "metadata": {
        "_uuid": "9a0fbfd1d2ab88ea2be51687311a5da8b6be7bc1",
        "id": "YNet6oWQKC1i",
        "colab_type": "text"
      },
      "cell_type": "markdown",
      "source": [
        "## Where to go next?\n",
        "\n",
        "* optimization objective alias loss choice\n",
        "* hyperparameter search"
      ]
    },
    {
      "metadata": {
        "id": "ixa4y1YaKu0Q",
        "colab_type": "code",
        "colab": {}
      },
      "cell_type": "code",
      "source": [
        ""
      ],
      "execution_count": 0,
      "outputs": []
    },
    {
      "metadata": {
        "id": "qRZfQBiNKvBw",
        "colab_type": "code",
        "colab": {}
      },
      "cell_type": "code",
      "source": [
        ""
      ],
      "execution_count": 0,
      "outputs": []
    }
  ]
}